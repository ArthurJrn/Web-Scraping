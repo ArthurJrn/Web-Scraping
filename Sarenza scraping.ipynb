{
 "cells": [
  {
   "cell_type": "markdown",
   "metadata": {},
   "source": [
    "# Scraping Sarenza (shoes)"
   ]
  },
  {
   "cell_type": "markdown",
   "metadata": {},
   "source": [
    "This scraper uses BeautifulSoup. Import the necessary packages and librairies."
   ]
  },
  {
   "cell_type": "code",
   "execution_count": 2,
   "metadata": {},
   "outputs": [],
   "source": [
    "from bs4 import BeautifulSoup\n",
    "import requests\n",
    "import urllib.request\n",
    "import sys\n",
    "import os\n",
    "import traceback\n",
    "import re\n",
    "import time"
   ]
  },
  {
   "cell_type": "markdown",
   "metadata": {},
   "source": [
    "The headers is the fingerprint of the web browser you use to perform scraping. In case you get bloced by anti-scraping, one solution is to rotate proxies and headers to disguise yourself as several regular user. Use sleep as well as false request in case the anti-scraper is smart. "
   ]
  },
  {
   "cell_type": "code",
   "execution_count": 3,
   "metadata": {},
   "outputs": [],
   "source": [
    "headers = {'User-Agent': 'Mozilla/5.0 (X11; Ubuntu; Linux x86_64; rv:62.0) Gecko/20100101 Firefox/62.0'}"
   ]
  },
  {
   "cell_type": "markdown",
   "metadata": {},
   "source": [
    "Choose your main URL."
   ]
  },
  {
   "cell_type": "code",
   "execution_count": 4,
   "metadata": {},
   "outputs": [],
   "source": [
    "url = \"https://www.sarenza.com/tout-chaussure-homme\""
   ]
  },
  {
   "cell_type": "markdown",
   "metadata": {},
   "source": [
    "Ask the website for the html file."
   ]
  },
  {
   "cell_type": "code",
   "execution_count": 5,
   "metadata": {},
   "outputs": [],
   "source": [
    "html = requests.get(url, headers=headers)"
   ]
  },
  {
   "cell_type": "markdown",
   "metadata": {},
   "source": [
    "Create a beautiful soup object. You can choose 'lxml' or 'hlml.parser' as a parser for your file depending on the case."
   ]
  },
  {
   "cell_type": "code",
   "execution_count": 6,
   "metadata": {},
   "outputs": [],
   "source": [
    "soup = BeautifulSoup(html.text, \"lxml\")"
   ]
  },
  {
   "cell_type": "markdown",
   "metadata": {},
   "source": [
    "Let's have an idea of how many images we can get from this page."
   ]
  },
  {
   "cell_type": "code",
   "execution_count": 7,
   "metadata": {},
   "outputs": [
    {
     "name": "stdout",
     "output_type": "stream",
     "text": [
      "5961 modèles\n"
     ]
    }
   ],
   "source": [
    "number = soup.findAll('div', {\"class\":\"count\"})[0].text\n",
    "print(number)"
   ]
  },
  {
   "cell_type": "markdown",
   "metadata": {},
   "source": [
    "Get the type of product we're gonna get."
   ]
  },
  {
   "cell_type": "code",
   "execution_count": 12,
   "metadata": {},
   "outputs": [
    {
     "name": "stdout",
     "output_type": "stream",
     "text": [
      "Chaussure homme\n"
     ]
    }
   ],
   "source": [
    "type = soup.find('h1',{\"class\":\"title-level1\"}).text\n",
    "print(type)"
   ]
  },
  {
   "cell_type": "markdown",
   "metadata": {},
   "source": [
    "Now we start scraping. We gonna clik on every product and gather some useful infos such as the description, the brand, download image of the product... We gather the url, download the image and put the infos in a .json file for a later use."
   ]
  },
  {
   "cell_type": "code",
   "execution_count": 15,
   "metadata": {},
   "outputs": [
    {
     "name": "stdout",
     "output_type": "stream",
     "text": [
      "[<a class=\"product-link\" href=\"/clarks-clarkdale-gobi-s811732-br62-t83-p0000161920\">\n",
      "<span class=\"thumb\"><img alt=\"Bottines et boots Homme Clarkdale Gobi\" height=\"99\" src=\"https://cdn.sarenza.net/_img/productsv4/0000161920/vig_0000161920_339080_12.jpg?201809121056&amp;s&amp;v=20180830155342\" title=\"Chaussure Clarks Clarkdale Gobi Homme\" width=\"193\"/></span>\n",
      "<span class=\"model\">Clarkdale Gobi</span>\n",
      "</a>, <a class=\"product-link\" href=\"/i-love-shoes-kebara-s855539-br964-t76-p0000165114\">\n",
      "<span class=\"thumb\"><img alt=\"Baskets Homme KEBARA\" height=\"99\" src=\"https://cdn.sarenza.net/_img/productsv4/0000165114/vig_0000165114_314205_12.jpg?201801051643&amp;s&amp;v=20180830155342\" title=\"Chaussure I Love Shoes KEBARA Homme\" width=\"193\"/></span>\n",
      "<span class=\"model\">KEBARA</span>\n",
      "</a>, <a class=\"product-link\" href=\"/adidas-originals-stan-smith-s858393-br4-t76-p0000009608\">\n",
      "<span class=\"thumb\"><img alt=\"Baskets Homme Stan Smith\" height=\"99\" src=\"https://cdn.sarenza.net/_img/productsv4/0000009608/vig_0000009608_210388_12.jpg?201502261941&amp;s&amp;v=20180830155342\" title=\"Chaussure Adidas Originals Stan Smith Homme\" width=\"193\"/></span>\n",
      "<span class=\"model\">Stan Smith</span>\n",
      "</a>, <a class=\"product-link\" href=\"/marvin-co-nottage-s2706-br805-t20-p0000161295\">\n",
      "<span class=\"thumb\"><img alt=\"Chaussures à lacets Homme Nottage\" height=\"99\" src=\"https://cdn.sarenza.net/_img/productsv4/0000161295/vig_0000161295_306862_12.jpg?201707211840&amp;s&amp;v=20180830155342\" title=\"Chaussure Marvin&amp;Co Nottage Homme\" width=\"193\"/></span>\n",
      "<span class=\"model\">Nottage</span>\n",
      "</a>, <a class=\"product-link\" href=\"/mustang-shoes-calagan-s753073-br670-t83-p0000179161\">\n",
      "<span class=\"thumb\"><img alt=\"Bottines et boots Homme Calagan\" height=\"99\" src=\"https://cdn.sarenza.net/_img/productsv4/0000179161/vig_0000179161_340086_12.jpg?201807301148&amp;s&amp;v=20180830155342\" title=\"Chaussure Mustang shoes Calagan Homme\" width=\"193\"/></span>\n",
      "<span class=\"model\">Calagan</span>\n",
      "</a>, <a class=\"product-link\" href=\"/clarks-oakland-lace-s149-br62-t20-p0000178590\">\n",
      "<span class=\"thumb\"><img alt=\"Chaussures à lacets Homme Oakland Lace\" height=\"99\" src=\"https://cdn.sarenza.net/_img/productsv4/0000178590/vig_0000178590_343995_12.jpg?201809261646&amp;s&amp;v=20180830155342\" title=\"Chaussure Clarks Oakland Lace Homme\" width=\"193\"/></span>\n",
      "<span class=\"model\">Oakland Lace</span>\n",
      "</a>, <a class=\"product-link\" href=\"/puma-smash-v2-s858732-br245-t76-p0000177556\">\n",
      "<span class=\"thumb\"><img alt=\"Baskets Homme Smash V2\" class=\"lazy\" data-original=\"https://cdn.sarenza.net/_img/productsv4/0000177556/vig_0000177556_337400_12.jpg?201806281057&amp;s&amp;v=20180830155342\" height=\"99\" src=\"data:image/gif;base64,R0lGODlhAQABAAAAACH5BAEKAAEALAAAAAABAAEAAAICTAEAOw==\" title=\"Chaussure Puma Smash V2 Homme\" width=\"193\"/></span>\n",
      "<span class=\"model\">Smash V2</span>\n",
      "</a>, <a class=\"product-link\" href=\"/tommy-hilfiger-driver-s838331-br299-t11-p0000181698\">\n",
      "<span class=\"thumb\"><img alt=\"Mocassins Homme Driver\" class=\"lazy\" data-original=\"https://cdn.sarenza.net/_img/productsv4/0000181698/vig_0000181698_344994_12.jpg?201809131145&amp;s&amp;v=20180830155342\" height=\"99\" src=\"data:image/gif;base64,R0lGODlhAQABAAAAACH5BAEKAAEALAAAAAABAAEAAAICTAEAOw==\" title=\"Chaussure Tommy Hilfiger Driver Homme\" width=\"193\"/></span>\n",
      "<span class=\"model\">Driver</span>\n",
      "</a>, <a class=\"product-link\" href=\"/diadora-n9000-iii-s854769-br1462-t76-p0000156135\">\n",
      "<span class=\"thumb\"><img alt=\"Baskets Homme N9000 III\" class=\"lazy\" data-original=\"https://cdn.sarenza.net/_img/productsv4/0000156135/vig_0000156135_305665_12.jpg?201709261741&amp;s&amp;v=20180830155342\" height=\"99\" src=\"data:image/gif;base64,R0lGODlhAQABAAAAACH5BAEKAAEALAAAAAABAAEAAAICTAEAOw==\" title=\"Chaussure Diadora N9000 III Homme\" width=\"193\"/></span>\n",
      "<span class=\"model\">N9000 III</span>\n",
      "</a>, <a class=\"product-link\" href=\"/timberland-larchmont-chukka-s858650-br295-t83-p0000127253\">\n",
      "<span class=\"thumb\"><img alt=\"Bottines et boots Homme Larchmont Chukka\" class=\"lazy\" data-original=\"https://cdn.sarenza.net/_img/productsv4/0000127253/vig_0000127253_324881_12.jpg?201801121045&amp;s&amp;v=20180830155342\" height=\"99\" src=\"data:image/gif;base64,R0lGODlhAQABAAAAACH5BAEKAAEALAAAAAABAAEAAAICTAEAOw==\" title=\"Chaussure Timberland Larchmont Chukka Homme\" width=\"193\"/></span>\n",
      "<span class=\"model\">Larchmont Chukka</span>\n",
      "</a>, <a class=\"product-link\" href=\"/reebok-classic-leather-mu-s1985-br252-t76-p0000181016\">\n",
      "<span class=\"thumb\"><img alt=\"Baskets Homme Classic Leather MU\" class=\"lazy\" data-original=\"https://cdn.sarenza.net/_img/productsv4/0000181016/vig_0000181016_343643_12.jpg?201807091053&amp;s&amp;v=20180830155342\" height=\"99\" src=\"data:image/gif;base64,R0lGODlhAQABAAAAACH5BAEKAAEALAAAAAABAAEAAAICTAEAOw==\" title=\"Chaussure Reebok Classic Leather MU Homme\" width=\"193\"/></span>\n",
      "<span class=\"model\">Classic Leather MU</span>\n",
      "</a>, <a class=\"product-link\" href=\"/rieker-killian-05358-s2195-br716-t99-p0000102954\">\n",
      "<span class=\"thumb\"><img alt=\"Chaussures à scratch Homme Killian 05358\" class=\"lazy\" data-original=\"https://cdn.sarenza.net/_img/productsv4/0000102954/vig_0000102954_190181_12.jpg?201408012143&amp;s&amp;v=20180830155342\" height=\"99\" src=\"data:image/gif;base64,R0lGODlhAQABAAAAACH5BAEKAAEALAAAAAABAAEAAAICTAEAOw==\" title=\"Chaussure Rieker Killian 05358 Homme\" width=\"193\"/></span>\n",
      "<span class=\"model\">Killian 05358</span>\n",
      "</a>, <a class=\"product-link\" href=\"/dr--martens-1460-m-s942-br85-t83-p0000018261\">\n",
      "<span class=\"thumb\"><img alt=\"Bottines et boots Homme 1460 M\" class=\"lazy\" data-original=\"https://cdn.sarenza.net/_img/productsv4/0000018261/vig_0000018261_228223_12.jpg?201505211101&amp;s&amp;v=20180830155342\" height=\"99\" src=\"data:image/gif;base64,R0lGODlhAQABAAAAACH5BAEKAAEALAAAAAABAAEAAAICTAEAOw==\" title=\"Chaussure Dr. Martens 1460 M Homme\" width=\"193\"/></span>\n",
      "<span class=\"model\">1460 M</span>\n",
      "</a>, <a class=\"product-link\" href=\"/jack---jones-jfwrussel-s2261-br1029-t83-p0000174421\">\n",
      "<span class=\"thumb\"><img alt=\"Bottines et boots Homme JFWRUSSEL\" class=\"lazy\" data-original=\"https://cdn.sarenza.net/_img/productsv4/0000174421/vig_0000174421_331956_12.jpg?201808021049&amp;s&amp;v=20180830155342\" height=\"99\" src=\"data:image/gif;base64,R0lGODlhAQABAAAAACH5BAEKAAEALAAAAAABAAEAAAICTAEAOw==\" title=\"Chaussure Jack &amp; Jones JFWRUSSEL Homme\" width=\"193\"/></span>\n",
      "<span class=\"model\">JFWRUSSEL</span>\n",
      "</a>, <a class=\"product-link\" href=\"/mustang-shoes-kim-s768096-br670-t76-p0000181730\">\n",
      "<span class=\"thumb\"><img alt=\"Baskets Homme Kim\" class=\"lazy\" data-original=\"https://cdn.sarenza.net/_img/productsv4/0000181730/vig_0000181730_345048_12.jpg?201809141905&amp;s&amp;v=20180830155342\" height=\"99\" src=\"data:image/gif;base64,R0lGODlhAQABAAAAACH5BAEKAAEALAAAAAABAAEAAAICTAEAOw==\" title=\"Chaussure Mustang shoes Kim Homme\" width=\"193\"/></span>\n",
      "<span class=\"model\">Kim</span>\n",
      "</a>, <a class=\"product-link\" href=\"/rieker-martin-30423-s1779-br716-t20-p0000123754\">\n",
      "<span class=\"thumb\"><img alt=\"Chaussures à lacets Homme Martin 30423\" class=\"lazy\" data-original=\"https://cdn.sarenza.net/_img/productsv4/0000123754/vig_0000123754_232046_12.jpg?201507241350&amp;s&amp;v=20180830155342\" height=\"99\" src=\"data:image/gif;base64,R0lGODlhAQABAAAAACH5BAEKAAEALAAAAAABAAEAAAICTAEAOw==\" title=\"Chaussure Rieker Martin 30423 Homme\" width=\"193\"/></span>\n",
      "<span class=\"model\">Martin 30423</span>\n",
      "</a>, <a class=\"product-link\" href=\"/giorgio-gildo-s860751-br1511-t20-p0000174650\">\n",
      "<span class=\"thumb\"><img alt=\"Chaussures à lacets Homme GILDO\" class=\"lazy\" data-original=\"https://cdn.sarenza.net/_img/productsv4/0000174650/vig_0000174650_332410_12.jpg?201806201742&amp;s&amp;v=20180830155342\" height=\"99\" src=\"data:image/gif;base64,R0lGODlhAQABAAAAACH5BAEKAAEALAAAAAABAAEAAAICTAEAOw==\" title=\"Chaussure GIORGIO GILDO Homme\" width=\"193\"/></span>\n",
      "<span class=\"model\">GILDO</span>\n",
      "</a>, <a class=\"product-link\" href=\"/i-love-shoes-sigmund-s1854-br964-t20-p0000156306\">\n",
      "<span class=\"thumb\"><img alt=\"Chaussures à lacets Homme SIGMUND\" class=\"lazy\" data-original=\"https://cdn.sarenza.net/_img/productsv4/0000156306/vig_0000156306_298476_12.jpg?201707041746&amp;s&amp;v=20180830155342\" height=\"99\" src=\"data:image/gif;base64,R0lGODlhAQABAAAAACH5BAEKAAEALAAAAAABAAEAAAICTAEAOw==\" title=\"Chaussure I Love Shoes SIGMUND Homme\" width=\"193\"/></span>\n",
      "<span class=\"model\">SIGMUND</span>\n",
      "</a>, <a class=\"product-link\" href=\"/adidas-originals-stan-smith-s858395-br4-t76-p0000009608\">\n",
      "<span class=\"thumb\"><img alt=\"Baskets Homme Stan Smith\" class=\"lazy\" data-original=\"https://cdn.sarenza.net/_img/productsv4/0000009608/vig_0000009608_210387_12.jpg?201503190950&amp;s&amp;v=20180830155342\" height=\"99\" src=\"data:image/gif;base64,R0lGODlhAQABAAAAACH5BAEKAAEALAAAAAABAAEAAAICTAEAOw==\" title=\"Chaussure Adidas Originals Stan Smith Homme\" width=\"193\"/></span>\n",
      "<span class=\"model\">Stan Smith</span>\n",
      "</a>, <a class=\"product-link\" href=\"/i-love-shoes-kerens-leather-s2801-br964-t20-p0000165121\">\n",
      "<span class=\"thumb\"><img alt=\"Chaussures à lacets Homme KERENS Leather\" class=\"lazy\" data-original=\"https://cdn.sarenza.net/_img/productsv4/0000165121/vig_0000165121_314218_12.jpg?201801051643&amp;s&amp;v=20180830155342\" height=\"99\" src=\"data:image/gif;base64,R0lGODlhAQABAAAAACH5BAEKAAEALAAAAAABAAEAAAICTAEAOw==\" title=\"Chaussure I Love Shoes KERENS Leather Homme\" width=\"193\"/></span>\n",
      "<span class=\"model\">KERENS Leather</span>\n",
      "</a>, <a class=\"product-link\" href=\"/mustang-shoes-mirkle-s802570-br670-t8-p0000179159\">\n",
      "<span class=\"thumb\"><img alt=\"Bottes Homme Mirkle\" class=\"lazy\" data-original=\"https://cdn.sarenza.net/_img/productsv4/0000179159/vig_0000179159_340080_12.jpg?201809121109&amp;s&amp;v=20180830155342\" height=\"99\" src=\"data:image/gif;base64,R0lGODlhAQABAAAAACH5BAEKAAEALAAAAAABAAEAAAICTAEAOw==\" title=\"Chaussure Mustang shoes Mirkle Homme\" width=\"193\"/></span>\n",
      "<span class=\"model\">Mirkle</span>\n",
      "</a>, <a class=\"product-link\" href=\"/azzaro-judic-s750063-br533-t20-p0000175873\">\n",
      "<span class=\"thumb\"><img alt=\"Chaussures à lacets Homme JUDIC\" class=\"lazy\" data-original=\"https://cdn.sarenza.net/_img/productsv4/0000175873/vig_0000175873_334299_12.jpg?201808221841&amp;s&amp;v=20180830155342\" height=\"99\" src=\"data:image/gif;base64,R0lGODlhAQABAAAAACH5BAEKAAEALAAAAAABAAEAAAICTAEAOw==\" title=\"Chaussure Azzaro JUDIC Homme\" width=\"193\"/></span>\n",
      "<span class=\"model\">JUDIC</span>\n",
      "</a>, <a class=\"product-link\" href=\"/base-london-metal-s785370-br674-t8-p0000019692\">\n",
      "<span class=\"thumb\"><img alt=\"Bottes Homme Metal\" class=\"lazy\" data-original=\"https://cdn.sarenza.net/_img/productsv4/0000019692/vig_0000019692_192673_12.jpg?201408071940&amp;s&amp;v=20180830155342\" height=\"99\" src=\"data:image/gif;base64,R0lGODlhAQABAAAAACH5BAEKAAEALAAAAAABAAEAAAICTAEAOw==\" title=\"Chaussure Base London Metal Homme\" width=\"193\"/></span>\n",
      "<span class=\"model\">Metal</span>\n",
      "</a>, <a class=\"product-link\" href=\"/redskins-germain-s2261-br506-t76-p0000180221\">\n",
      "<span class=\"thumb\"><img alt=\"Baskets Homme Germain\" class=\"lazy\" data-original=\"https://cdn.sarenza.net/_img/productsv4/0000180221/vig_0000180221_342103_12.jpg?201808211753&amp;s&amp;v=20180830155342\" height=\"99\" src=\"data:image/gif;base64,R0lGODlhAQABAAAAACH5BAEKAAEALAAAAAABAAEAAAICTAEAOw==\" title=\"Chaussure Redskins Germain Homme\" width=\"193\"/></span>\n",
      "<span class=\"model\">Germain</span>\n",
      "</a>, <a class=\"product-link\" href=\"/nike-nike-air-vibenna-s839576-br439-t76-p0000147425\">\n",
      "<span class=\"thumb\"><img alt=\"Baskets Homme Nike Air Vibenna\" class=\"lazy\" data-original=\"https://cdn.sarenza.net/_img/productsv4/0000147425/vig_0000147425_280802_12.jpg?201702091745&amp;s&amp;v=20180830155342\" height=\"99\" src=\"data:image/gif;base64,R0lGODlhAQABAAAAACH5BAEKAAEALAAAAAABAAEAAAICTAEAOw==\" title=\"Chaussure Nike Nike Air Vibenna Homme\" width=\"193\"/></span>\n",
      "<span class=\"model\">Nike Air Vibenna</span>\n",
      "</a>, <a class=\"product-link\" href=\"/birkenstock-arizona-cuir-m-s1022-br38-t75-p0000011061\">\n",
      "<span class=\"thumb\"><img alt=\"Sandales et nu-pieds Homme Arizona Cuir M\" class=\"lazy\" data-original=\"https://cdn.sarenza.net/_img/productsv4/0000011061/vig_0000011061_183718_12.jpg?201405222040&amp;s&amp;v=20180830155342\" height=\"99\" src=\"data:image/gif;base64,R0lGODlhAQABAAAAACH5BAEKAAEALAAAAAABAAEAAAICTAEAOw==\" title=\"Chaussure Birkenstock Arizona Cuir M Homme\" width=\"193\"/></span>\n",
      "<span class=\"model\">Arizona Cuir M</span>\n",
      "</a>, <a class=\"product-link\" href=\"/marvin-co-torbay-s785961-br805-t83-p0000141518\">\n",
      "<span class=\"thumb\"><img alt=\"Bottines et boots Homme Torbay\" class=\"lazy\" data-original=\"https://cdn.sarenza.net/_img/productsv4/0000141518/vig_0000141518_268994_12.jpg?201608041645&amp;s&amp;v=20180830155342\" height=\"99\" src=\"data:image/gif;base64,R0lGODlhAQABAAAAACH5BAEKAAEALAAAAAABAAEAAAICTAEAOw==\" title=\"Chaussure Marvin&amp;Co Torbay Homme\" width=\"193\"/></span>\n",
      "<span class=\"model\">Torbay</span>\n",
      "</a>, <a class=\"product-link\" href=\"/geox-u-box-c-u82r3c-s856123-br111-t76-p0000166378\">\n",
      "<span class=\"thumb\"><img alt=\"Baskets Homme U BOX C U82R3C\" class=\"lazy\" data-original=\"https://cdn.sarenza.net/_img/productsv4/0000166378/vig_0000166378_316546_12.jpg?201712221254&amp;s&amp;v=20180830155342\" height=\"99\" src=\"data:image/gif;base64,R0lGODlhAQABAAAAACH5BAEKAAEALAAAAAABAAEAAAICTAEAOw==\" title=\"Chaussure Geox U BOX C U82R3C Homme\" width=\"193\"/></span>\n",
      "<span class=\"model\">U BOX C U82R3C</span>\n",
      "</a>, <a class=\"product-link\" href=\"/base-london-clapham-s770294-br674-t83-p0000123057\">\n",
      "<span class=\"thumb\"><img alt=\"Bottines et boots Homme Clapham\" class=\"lazy\" data-original=\"https://cdn.sarenza.net/_img/productsv4/0000123057/vig_0000123057_305278_12.jpg?201707111942&amp;s&amp;v=20180830155342\" height=\"99\" src=\"data:image/gif;base64,R0lGODlhAQABAAAAACH5BAEKAAEALAAAAAABAAEAAAICTAEAOw==\" title=\"Chaussure Base London Clapham Homme\" width=\"193\"/></span>\n",
      "<span class=\"model\">Clapham</span>\n",
      "</a>, <a class=\"product-link\" href=\"/redskins-yani-s863222-br506-t83-p0000180219\">\n",
      "<span class=\"thumb\"><img alt=\"Bottines et boots Homme Yani\" class=\"lazy\" data-original=\"https://cdn.sarenza.net/_img/productsv4/0000180219/vig_0000180219_342096_12.jpg?201808221852&amp;s&amp;v=20180830155342\" height=\"99\" src=\"data:image/gif;base64,R0lGODlhAQABAAAAACH5BAEKAAEALAAAAAABAAEAAAICTAEAOw==\" title=\"Chaussure Redskins Yani Homme\" width=\"193\"/></span>\n",
      "<span class=\"model\">Yani</span>\n",
      "</a>, <a class=\"product-link\" href=\"/melvin---hamilton-clint-7-s863320-br988-t83-p0000176939\">\n",
      "<span class=\"thumb\"><img alt=\"Bottines et boots Homme Clint 7\" class=\"lazy\" data-original=\"https://cdn.sarenza.net/_img/productsv4/0000176939/vig_0000176939_336198_12.jpg?201809131239&amp;s&amp;v=20180830155342\" height=\"99\" src=\"data:image/gif;base64,R0lGODlhAQABAAAAACH5BAEKAAEALAAAAAABAAEAAAICTAEAOw==\" title=\"Chaussure Melvin &amp; Hamilton Clint 7 Homme\" width=\"193\"/></span>\n",
      "<span class=\"model\">Clint 7</span>\n",
      "</a>, <a class=\"product-link\" href=\"/dockers-ulrich-s753068-br81-t83-p0000172974\">\n",
      "<span class=\"thumb\"><img alt=\"Bottines et boots Homme Ulrich\" class=\"lazy\" data-original=\"https://cdn.sarenza.net/_img/productsv4/0000172974/vig_0000172974_329204_12.jpg?201808171100&amp;s&amp;v=20180830155342\" height=\"99\" src=\"data:image/gif;base64,R0lGODlhAQABAAAAACH5BAEKAAEALAAAAAABAAEAAAICTAEAOw==\" title=\"Chaussure Dockers Ulrich Homme\" width=\"193\"/></span>\n",
      "<span class=\"model\">Ulrich</span>\n",
      "</a>, <a class=\"product-link\" href=\"/i-love-shoes-simeon-s2195-br964-t83-p0000156304\">\n",
      "<span class=\"thumb\"><img alt=\"Bottines et boots Homme SIMEON\" class=\"lazy\" data-original=\"https://cdn.sarenza.net/_img/productsv4/0000156304/vig_0000156304_298469_12.jpg?201707041746&amp;s&amp;v=20180830155342\" height=\"99\" src=\"data:image/gif;base64,R0lGODlhAQABAAAAACH5BAEKAAEALAAAAAABAAEAAAICTAEAOw==\" title=\"Chaussure I Love Shoes SIMEON Homme\" width=\"193\"/></span>\n",
      "<span class=\"model\">SIMEON</span>\n",
      "</a>, <a class=\"product-link\" href=\"/melvin---hamilton-lance-19-s863325-br988-t83-p0000147851\">\n",
      "<span class=\"thumb\"><img alt=\"Bottines et boots Homme Lance 19\" class=\"lazy\" data-original=\"https://cdn.sarenza.net/_img/productsv4/0000147851/vig_0000147851_336193_12.jpg?201808211751&amp;s&amp;v=20180830155342\" height=\"99\" src=\"data:image/gif;base64,R0lGODlhAQABAAAAACH5BAEKAAEALAAAAAABAAEAAAICTAEAOw==\" title=\"Chaussure Melvin &amp; Hamilton Lance 19 Homme\" width=\"193\"/></span>\n",
      "<span class=\"model\">Lance 19</span>\n",
      "</a>, <a class=\"product-link\" href=\"/melvin---hamilton-toni-31-s863321-br988-t20-p0000176938\">\n",
      "<span class=\"thumb\"><img alt=\"Chaussures à lacets Homme Toni 31\" class=\"lazy\" data-original=\"https://cdn.sarenza.net/_img/productsv4/0000176938/vig_0000176938_336196_12.jpg?201809261150&amp;s&amp;v=20180830155342\" height=\"99\" src=\"data:image/gif;base64,R0lGODlhAQABAAAAACH5BAEKAAEALAAAAAABAAEAAAICTAEAOw==\" title=\"Chaussure Melvin &amp; Hamilton Toni 31 Homme\" width=\"193\"/></span>\n",
      "<span class=\"model\">Toni 31</span>\n",
      "</a>, <a class=\"product-link\" href=\"/clarks-batcombe-top-s785064-br62-t83-p0000178574\">\n",
      "<span class=\"thumb\"><img alt=\"Bottines et boots Homme Batcombe Top\" class=\"lazy\" data-original=\"https://cdn.sarenza.net/_img/productsv4/0000178574/vig_0000178574_339081_12.jpg?201809261155&amp;s&amp;v=20180830155342\" height=\"99\" src=\"data:image/gif;base64,R0lGODlhAQABAAAAACH5BAEKAAEALAAAAAABAAEAAAICTAEAOw==\" title=\"Chaussure Clarks Batcombe Top Homme\" width=\"193\"/></span>\n",
      "<span class=\"model\">Batcombe Top</span>\n",
      "</a>, <a class=\"product-link\" href=\"/timberland-bradstreet-chukka-s852325-br295-t83-p0000159063\">\n",
      "<span class=\"thumb\"><img alt=\"Bottines et boots Homme Bradstreet Chukka\" class=\"lazy\" data-original=\"https://cdn.sarenza.net/_img/productsv4/0000159063/vig_0000159063_302691_12.jpg?201709291749&amp;s&amp;v=20180830155342\" height=\"99\" src=\"data:image/gif;base64,R0lGODlhAQABAAAAACH5BAEKAAEALAAAAAABAAEAAAICTAEAOw==\" title=\"Chaussure Timberland Bradstreet Chukka Homme\" width=\"193\"/></span>\n",
      "<span class=\"model\">Bradstreet Chukka</span>\n",
      "</a>, <a class=\"product-link\" href=\"/brett---sons-aron-s853880-br41-t83-p0000141503\">\n",
      "<span class=\"thumb\"><img alt=\"Bottines et boots Homme Aron\" class=\"lazy\" data-original=\"https://cdn.sarenza.net/_img/productsv4/0000141503/vig_0000141503_308753_12.jpg?201708232141&amp;s&amp;v=20180830155342\" height=\"99\" src=\"data:image/gif;base64,R0lGODlhAQABAAAAACH5BAEKAAEALAAAAAABAAEAAAICTAEAOw==\" title=\"Chaussure Brett &amp; Sons Aron Homme\" width=\"193\"/></span>\n",
      "<span class=\"model\">Aron</span>\n",
      "</a>, <a class=\"product-link\" href=\"/clarks-atticus-limit-s756473-br62-t83-p0000168348\">\n",
      "<span class=\"thumb\"><img alt=\"Bottines et boots Homme Atticus Limit\" class=\"lazy\" data-original=\"https://cdn.sarenza.net/_img/productsv4/0000168348/vig_0000168348_339056_12.jpg?201807101744&amp;s&amp;v=20180830155342\" height=\"99\" src=\"data:image/gif;base64,R0lGODlhAQABAAAAACH5BAEKAAEALAAAAAABAAEAAAICTAEAOw==\" title=\"Chaussure Clarks Atticus Limit Homme\" width=\"193\"/></span>\n",
      "<span class=\"model\">Atticus Limit</span>\n",
      "</a>, <a class=\"product-link\" href=\"/bullboxer-william-s1436-br978-t83-p0000137791\">\n",
      "<span class=\"thumb\"><img alt=\"Bottines et boots Homme William\" class=\"lazy\" data-original=\"https://cdn.sarenza.net/_img/productsv4/0000137791/vig_0000137791_262508_12.jpg?201607271840&amp;s&amp;v=20180830155342\" height=\"99\" src=\"data:image/gif;base64,R0lGODlhAQABAAAAACH5BAEKAAEALAAAAAABAAEAAAICTAEAOw==\" title=\"Chaussure Bullboxer William Homme\" width=\"193\"/></span>\n",
      "<span class=\"model\">William</span>\n",
      "</a>, <a class=\"product-link\" href=\"/redskins-cournol-s863247-br506-t76-p0000160011\">\n",
      "<span class=\"thumb\"><img alt=\"Baskets Homme Cournol\" class=\"lazy\" data-original=\"https://cdn.sarenza.net/_img/productsv4/0000160011/vig_0000160011_304510_12.jpg?201709281042&amp;s&amp;v=20180830155342\" height=\"99\" src=\"data:image/gif;base64,R0lGODlhAQABAAAAACH5BAEKAAEALAAAAAABAAEAAAICTAEAOw==\" title=\"Chaussure Redskins Cournol Homme\" width=\"193\"/></span>\n",
      "<span class=\"model\">Cournol</span>\n",
      "</a>, <a class=\"product-link\" href=\"/doucal-s-oscar-vichy-s833451-br567-t20-p0000149412\">\n",
      "<span class=\"thumb\"><img alt=\"Chaussures à lacets Homme OSCAR Vichy\" class=\"lazy\" data-original=\"https://cdn.sarenza.net/_img/productsv4/0000149412/vig_0000149412_284658_12.jpg?201611291845&amp;s&amp;v=20180830155342\" height=\"99\" src=\"data:image/gif;base64,R0lGODlhAQABAAAAACH5BAEKAAEALAAAAAABAAEAAAICTAEAOw==\" title=\"Chaussure Doucal's OSCAR Vichy Homme\" width=\"193\"/></span>\n",
      "<span class=\"model\">OSCAR Vichy</span>\n",
      "</a>, <a class=\"product-link\" href=\"/timberland-fulk-cap-toe-ox-s1436-br295-t76-p0000170438\">\n",
      "<span class=\"thumb\"><img alt=\"Baskets Homme Fulk Cap Toe Ox\" class=\"lazy\" data-original=\"https://cdn.sarenza.net/_img/productsv4/0000170438/vig_0000170438_324497_12.jpg?201803081844&amp;s&amp;v=20180830155342\" height=\"99\" src=\"data:image/gif;base64,R0lGODlhAQABAAAAACH5BAEKAAEALAAAAAABAAEAAAICTAEAOw==\" title=\"Chaussure Timberland Fulk Cap Toe Ox Homme\" width=\"193\"/></span>\n",
      "<span class=\"model\">Fulk Cap Toe Ox</span>\n",
      "</a>, <a class=\"product-link\" href=\"/adidas-originals-gazelle-s839088-br4-t76-p0000139445\">\n",
      "<span class=\"thumb\"><img alt=\"Baskets Homme Gazelle\" class=\"lazy\" data-original=\"https://cdn.sarenza.net/_img/productsv4/0000139445/vig_0000139445_264863_12.jpg?201608042043&amp;s&amp;v=20180830155342\" height=\"99\" src=\"data:image/gif;base64,R0lGODlhAQABAAAAACH5BAEKAAEALAAAAAABAAEAAAICTAEAOw==\" title=\"Chaussure Adidas Originals Gazelle Homme\" width=\"193\"/></span>\n",
      "<span class=\"model\">Gazelle</span>\n",
      "</a>, <a class=\"product-link\" href=\"/kickers-brok-s2195-br154-t83-p0000179742\">\n",
      "<span class=\"thumb\"><img alt=\"Bottines et boots Homme BROK\" class=\"lazy\" data-original=\"https://cdn.sarenza.net/_img/productsv4/0000179742/vig_0000179742_341305_12.jpg?201808231848&amp;s&amp;v=20180830155342\" height=\"99\" src=\"data:image/gif;base64,R0lGODlhAQABAAAAACH5BAEKAAEALAAAAAABAAEAAAICTAEAOw==\" title=\"Chaussure Kickers BROK Homme\" width=\"193\"/></span>\n",
      "<span class=\"model\">BROK</span>\n",
      "</a>, <a class=\"product-link\" href=\"/converse-chuck-taylor-all-star-hi-m-s751232-br66-t76-p0000017267\">\n",
      "<span class=\"thumb\"><img alt=\"Baskets Homme Chuck Taylor All Star Hi M\" class=\"lazy\" data-original=\"https://cdn.sarenza.net/_img/productsv4/0000017267/vig_0000017267_24760_12.jpg?201308141705&amp;s&amp;v=20180830155342\" height=\"99\" src=\"data:image/gif;base64,R0lGODlhAQABAAAAACH5BAEKAAEALAAAAAABAAEAAAICTAEAOw==\" title=\"Chaussure Converse Chuck Taylor All Star Hi M Homme\" width=\"193\"/></span>\n",
      "<span class=\"model\">Chuck Taylor All Star Hi M</span>\n",
      "</a>, <a class=\"product-link\" href=\"/isotoner-mocassin-velours-h-s751232-br1074-t10-p0000176864\">\n",
      "<span class=\"thumb\"><img alt=\"Chaussons Homme Mocassin velours H\" class=\"lazy\" data-original=\"https://cdn.sarenza.net/_img/productsv4/0000176864/vig_0000176864_336105_12.jpg?201808091049&amp;s&amp;v=20180830155342\" height=\"99\" src=\"data:image/gif;base64,R0lGODlhAQABAAAAACH5BAEKAAEALAAAAAABAAEAAAICTAEAOw==\" title=\"Chaussure Isotoner Mocassin velours H Homme\" width=\"193\"/></span>\n",
      "<span class=\"model\">Mocassin velours H</span>\n",
      "</a>, <a class=\"product-link\" href=\"/base-london-havoc-s784872-br674-t83-p0000178538\">\n",
      "<span class=\"thumb\"><img alt=\"Bottines et boots Homme HAVOC\" class=\"lazy\" data-original=\"https://cdn.sarenza.net/_img/productsv4/0000178538/vig_0000178538_339000_12.jpg?201809031041&amp;s&amp;v=20180830155342\" height=\"99\" src=\"data:image/gif;base64,R0lGODlhAQABAAAAACH5BAEKAAEALAAAAAABAAEAAAICTAEAOw==\" title=\"Chaussure Base London HAVOC Homme\" width=\"193\"/></span>\n",
      "<span class=\"model\">HAVOC</span>\n",
      "</a>, <a class=\"product-link\" href=\"/pepe-jeans-north-mix-s824837-br232-t76-p0000158337\">\n",
      "<span class=\"thumb\"><img alt=\"Baskets Homme NORTH MIX\" class=\"lazy\" data-original=\"https://cdn.sarenza.net/_img/productsv4/0000158337/vig_0000158337_301383_12.jpg?201710191745&amp;s&amp;v=20180830155342\" height=\"99\" src=\"data:image/gif;base64,R0lGODlhAQABAAAAACH5BAEKAAEALAAAAAABAAEAAAICTAEAOw==\" title=\"Chaussure Pepe jeans NORTH MIX Homme\" width=\"193\"/></span>\n",
      "<span class=\"model\">NORTH MIX</span>\n",
      "</a>, <a class=\"product-link\" href=\"/bullboxer-jacques-s527-br978-t76-p0000168579\">\n",
      "<span class=\"thumb\"><img alt=\"Baskets Homme JACQUES\" class=\"lazy\" data-original=\"https://cdn.sarenza.net/_img/productsv4/0000168579/vig_0000168579_320712_12.jpg?201805081640&amp;s&amp;v=20180830155342\" height=\"99\" src=\"data:image/gif;base64,R0lGODlhAQABAAAAACH5BAEKAAEALAAAAAABAAEAAAICTAEAOw==\" title=\"Chaussure Bullboxer JACQUES Homme\" width=\"193\"/></span>\n",
      "<span class=\"model\">JACQUES</span>\n",
      "</a>, <a class=\"product-link\" href=\"/tommy-hilfiger-daytona-4b-s850922-br299-t83-p0000156424\">\n",
      "<span class=\"thumb\"><img alt=\"Bottines et boots Homme Daytona 4B\" class=\"lazy\" data-original=\"https://cdn.sarenza.net/_img/productsv4/0000156424/vig_0000156424_298678_12.jpg?201709071556&amp;s&amp;v=20180830155342\" height=\"99\" src=\"data:image/gif;base64,R0lGODlhAQABAAAAACH5BAEKAAEALAAAAAABAAEAAAICTAEAOw==\" title=\"Chaussure Tommy Hilfiger Daytona 4B Homme\" width=\"193\"/></span>\n",
      "<span class=\"model\">Daytona 4B</span>\n",
      "</a>, <a class=\"product-link\" href=\"/clarks-conwell-way-s3448-br62-t11-p0000180710\">\n",
      "<span class=\"thumb\"><img alt=\"Mocassins Homme Conwell Way\" class=\"lazy\" data-original=\"https://cdn.sarenza.net/_img/productsv4/0000180710/vig_0000180710_342857_12.jpg?201809261141&amp;s&amp;v=20180830155342\" height=\"99\" src=\"data:image/gif;base64,R0lGODlhAQABAAAAACH5BAEKAAEALAAAAAABAAEAAAICTAEAOw==\" title=\"Chaussure Clarks Conwell Way Homme\" width=\"193\"/></span>\n",
      "<span class=\"model\">Conwell Way</span>\n",
      "</a>, <a class=\"product-link\" href=\"/bullboxer-901k55807c-s862924-br978-t83-p0000175133\">\n",
      "<span class=\"thumb\"><img alt=\"Bottines et boots Homme 901K55807C\" class=\"lazy\" data-original=\"https://cdn.sarenza.net/_img/productsv4/0000175133/vig_0000175133_333209_12.jpg?201809131153&amp;s&amp;v=20180830155342\" height=\"99\" src=\"data:image/gif;base64,R0lGODlhAQABAAAAACH5BAEKAAEALAAAAAABAAEAAAICTAEAOw==\" title=\"Chaussure Bullboxer 901K55807C Homme\" width=\"193\"/></span>\n",
      "<span class=\"model\">901K55807C</span>\n",
      "</a>, <a class=\"product-link\" href=\"/melvin---hamilton-jeff-7-s863315-br988-t83-p0000062822\">\n",
      "<span class=\"thumb\"><img alt=\"Bottines et boots Homme Jeff 7\" class=\"lazy\" data-original=\"https://cdn.sarenza.net/_img/productsv4/0000062822/vig_0000062822_336205_12.jpg?201809261150&amp;s&amp;v=20180830155342\" height=\"99\" src=\"data:image/gif;base64,R0lGODlhAQABAAAAACH5BAEKAAEALAAAAAABAAEAAAICTAEAOw==\" title=\"Chaussure Melvin &amp; Hamilton Jeff 7 Homme\" width=\"193\"/></span>\n",
      "<span class=\"model\">Jeff 7</span>\n",
      "</a>, <a class=\"product-link\" href=\"/victoria-deportivo-pu-contraste-s2282-br652-t76-p0000170063\">\n",
      "<span class=\"thumb\"><img alt=\"Baskets Homme Deportivo Pu Contraste\" class=\"lazy\" data-original=\"https://cdn.sarenza.net/_img/productsv4/0000170063/vig_0000170063_323594_12.jpg?201801051650&amp;s&amp;v=20180830155342\" height=\"99\" src=\"data:image/gif;base64,R0lGODlhAQABAAAAACH5BAEKAAEALAAAAAABAAEAAAICTAEAOw==\" title=\"Chaussure Victoria Deportivo Pu Contraste Homme\" width=\"193\"/></span>\n",
      "<span class=\"model\">Deportivo Pu Contraste</span>\n",
      "</a>, <a class=\"product-link\" href=\"/tbs-quamer-s2362-br861-t8-p0000102447\">\n",
      "<span class=\"thumb\"><img alt=\"Bottes Homme Quamer\" class=\"lazy\" data-original=\"https://cdn.sarenza.net/_img/productsv4/0000102447/vig_0000102447_189298_12.jpg?201410250541&amp;s&amp;v=20180830155342\" height=\"99\" src=\"data:image/gif;base64,R0lGODlhAQABAAAAACH5BAEKAAEALAAAAAABAAEAAAICTAEAOw==\" title=\"Chaussure TBS Quamer Homme\" width=\"193\"/></span>\n",
      "<span class=\"model\">Quamer</span>\n",
      "</a>, <a class=\"product-link\" href=\"/pepe-jeans-marton-basic-s1854-br232-t76-p0000174764\">\n",
      "<span class=\"thumb\"><img alt=\"Baskets Homme MARTON BASIC\" class=\"lazy\" data-original=\"https://cdn.sarenza.net/_img/productsv4/0000174764/vig_0000174764_332643_12.jpg?201808131051&amp;s&amp;v=20180830155342\" height=\"99\" src=\"data:image/gif;base64,R0lGODlhAQABAAAAACH5BAEKAAEALAAAAAABAAEAAAICTAEAOw==\" title=\"Chaussure Pepe jeans MARTON BASIC Homme\" width=\"193\"/></span>\n",
      "<span class=\"model\">MARTON BASIC</span>\n",
      "</a>, <a class=\"product-link\" href=\"/mustang-shoes-jack-s753073-br670-t20-p0000181731\">\n",
      "<span class=\"thumb\"><img alt=\"Chaussures à lacets Homme Jack\" class=\"lazy\" data-original=\"https://cdn.sarenza.net/_img/productsv4/0000181731/vig_0000181731_345049_12.jpg?201808061042&amp;s&amp;v=20180830155342\" height=\"99\" src=\"data:image/gif;base64,R0lGODlhAQABAAAAACH5BAEKAAEALAAAAAABAAEAAAICTAEAOw==\" title=\"Chaussure Mustang shoes Jack Homme\" width=\"193\"/></span>\n",
      "<span class=\"model\">Jack</span>\n",
      "</a>, <a class=\"product-link\" href=\"/marvin-co-raymond-s1138-br805-t83-p0000176910\">\n",
      "<span class=\"thumb\"><img alt=\"Bottines et boots Homme Raymond\" class=\"lazy\" data-original=\"https://cdn.sarenza.net/_img/productsv4/0000176910/vig_0000176910_336161_12.jpg?201808021043&amp;s&amp;v=20180830155342\" height=\"99\" src=\"data:image/gif;base64,R0lGODlhAQABAAAAACH5BAEKAAEALAAAAAABAAEAAAICTAEAOw==\" title=\"Chaussure Marvin&amp;Co Raymond Homme\" width=\"193\"/></span>\n",
      "<span class=\"model\">Raymond</span>\n",
      "</a>, <a class=\"product-link\" href=\"/kost-drome-45-s2261-br687-t83-p0000160487\">\n",
      "<span class=\"thumb\"><img alt=\"Bottines et boots Homme Drome 45\" class=\"lazy\" data-original=\"https://cdn.sarenza.net/_img/productsv4/0000160487/vig_0000160487_305370_12.jpg?201708141043&amp;s&amp;v=20180830155342\" height=\"99\" src=\"data:image/gif;base64,R0lGODlhAQABAAAAACH5BAEKAAEALAAAAAABAAEAAAICTAEAOw==\" title=\"Chaussure Kost Drome 45 Homme\" width=\"193\"/></span>\n",
      "<span class=\"model\">Drome 45</span>\n",
      "</a>, <a class=\"product-link\" href=\"/marvin-co-ranty-s1138-br805-t83-p0000176909\">\n",
      "<span class=\"thumb\"><img alt=\"Bottines et boots Homme Ranty\" class=\"lazy\" data-original=\"https://cdn.sarenza.net/_img/productsv4/0000176909/vig_0000176909_336159_12.jpg?201808221849&amp;s&amp;v=20180830155342\" height=\"99\" src=\"data:image/gif;base64,R0lGODlhAQABAAAAACH5BAEKAAEALAAAAAABAAEAAAICTAEAOw==\" title=\"Chaussure Marvin&amp;Co Ranty Homme\" width=\"193\"/></span>\n",
      "<span class=\"model\">Ranty</span>\n",
      "</a>, <a class=\"product-link\" href=\"/timberland-brook-park-chukka-s863195-br295-t20-p0000127257\">\n",
      "<span class=\"thumb\"><img alt=\"Chaussures à lacets Homme Brook Park Chukka\" class=\"lazy\" data-original=\"https://cdn.sarenza.net/_img/productsv4/0000127257/vig_0000127257_341874_12.jpg?201807301150&amp;s&amp;v=20180830155342\" height=\"99\" src=\"data:image/gif;base64,R0lGODlhAQABAAAAACH5BAEKAAEALAAAAAABAAEAAAICTAEAOw==\" title=\"Chaussure Timberland Brook Park Chukka Homme\" width=\"193\"/></span>\n",
      "<span class=\"model\">Brook Park Chukka</span>\n",
      "</a>, <a class=\"product-link\" href=\"/redskins-yvori-s553-br506-t83-p0000160013\">\n",
      "<span class=\"thumb\"><img alt=\"Bottines et boots Homme Yvori\" class=\"lazy\" data-original=\"https://cdn.sarenza.net/_img/productsv4/0000160013/vig_0000160013_304512_12.jpg?201709281042&amp;s&amp;v=20180830155342\" height=\"99\" src=\"data:image/gif;base64,R0lGODlhAQABAAAAACH5BAEKAAEALAAAAAABAAEAAAICTAEAOw==\" title=\"Chaussure Redskins Yvori Homme\" width=\"193\"/></span>\n",
      "<span class=\"model\">Yvori</span>\n",
      "</a>, <a class=\"product-link\" href=\"/mephisto-colby-s1025-br1047-t83-p0000159473\">\n",
      "<span class=\"thumb\"><img alt=\"Bottines et boots Homme Colby\" class=\"lazy\" data-original=\"https://cdn.sarenza.net/_img/productsv4/0000159473/vig_0000159473_303425_12.jpg?201708041843&amp;s&amp;v=20180830155342\" height=\"99\" src=\"data:image/gif;base64,R0lGODlhAQABAAAAACH5BAEKAAEALAAAAAABAAEAAAICTAEAOw==\" title=\"Chaussure Mephisto Colby Homme\" width=\"193\"/></span>\n",
      "<span class=\"model\">Colby</span>\n",
      "</a>, <a class=\"product-link\" href=\"/new-balance-crt300-s2801-br208-t76-p0000135064\">\n",
      "<span class=\"thumb\"><img alt=\"Baskets Homme CRT300\" class=\"lazy\" data-original=\"https://cdn.sarenza.net/_img/productsv4/0000135064/vig_0000135064_313072_12.jpg?201801291844&amp;s&amp;v=20180830155342\" height=\"99\" src=\"data:image/gif;base64,R0lGODlhAQABAAAAACH5BAEKAAEALAAAAAABAAEAAAICTAEAOw==\" title=\"Chaussure New Balance CRT300 Homme\" width=\"193\"/></span>\n",
      "<span class=\"model\">CRT300</span>\n",
      "</a>, <a class=\"product-link\" href=\"/clarks-bampton-lace-s1855-br62-t20-p0000180877\">\n",
      "<span class=\"thumb\"><img alt=\"Chaussures à lacets Homme Bampton Lace\" class=\"lazy\" data-original=\"https://cdn.sarenza.net/_img/productsv4/0000180877/vig_0000180877_343258_12.jpg?201807161156&amp;s&amp;v=20180830155342\" height=\"99\" src=\"data:image/gif;base64,R0lGODlhAQABAAAAACH5BAEKAAEALAAAAAABAAEAAAICTAEAOw==\" title=\"Chaussure Clarks Bampton Lace Homme\" width=\"193\"/></span>\n",
      "<span class=\"model\">Bampton Lace</span>\n",
      "</a>, <a class=\"product-link\" href=\"/clarks-glide-chukka-s149-br62-t83-p0000178573\">\n",
      "<span class=\"thumb\"><img alt=\"Bottines et boots Homme Glide Chukka\" class=\"lazy\" data-original=\"https://cdn.sarenza.net/_img/productsv4/0000178573/vig_0000178573_339078_12.jpg?201807251846&amp;s&amp;v=20180830155342\" height=\"99\" src=\"data:image/gif;base64,R0lGODlhAQABAAAAACH5BAEKAAEALAAAAAABAAEAAAICTAEAOw==\" title=\"Chaussure Clarks Glide Chukka Homme\" width=\"193\"/></span>\n",
      "<span class=\"model\">Glide Chukka</span>\n",
      "</a>, <a class=\"product-link\" href=\"/base-london-troop-s794084-br674-t83-p0000136976\">\n",
      "<span class=\"thumb\"><img alt=\"Bottines et boots Homme Troop\" class=\"lazy\" data-original=\"https://cdn.sarenza.net/_img/productsv4/0000136976/vig_0000136976_260838_12.jpg?201609271841&amp;s&amp;v=20180830155342\" height=\"99\" src=\"data:image/gif;base64,R0lGODlhAQABAAAAACH5BAEKAAEALAAAAAABAAEAAAICTAEAOw==\" title=\"Chaussure Base London Troop Homme\" width=\"193\"/></span>\n",
      "<span class=\"model\">Troop</span>\n",
      "</a>, <a class=\"product-link\" href=\"/timberland-killington-chukka-s3334-br295-t83-p0000142888\">\n",
      "<span class=\"thumb\"><img alt=\"Bottines et boots Homme Killington Chukka\" class=\"lazy\" data-original=\"https://cdn.sarenza.net/_img/productsv4/0000142888/vig_0000142888_271585_12.jpg?201611041152&amp;s&amp;v=20180830155342\" height=\"99\" src=\"data:image/gif;base64,R0lGODlhAQABAAAAACH5BAEKAAEALAAAAAABAAEAAAICTAEAOw==\" title=\"Chaussure Timberland Killington Chukka Homme\" width=\"193\"/></span>\n",
      "<span class=\"model\">Killington Chukka</span>\n",
      "</a>, <a class=\"product-link\" href=\"/asics-patriot-10-s752210-br21-t74-p0000173362\">\n",
      "<span class=\"thumb\"><img alt=\"Chaussures de sport Homme Patriot 10\" class=\"lazy\" data-original=\"https://cdn.sarenza.net/_img/productsv4/0000173362/vig_0000173362_330116_12.jpg?201807231142&amp;s&amp;v=20180830155342\" height=\"99\" src=\"data:image/gif;base64,R0lGODlhAQABAAAAACH5BAEKAAEALAAAAAABAAEAAAICTAEAOw==\" title=\"Chaussure Asics Patriot 10 Homme\" width=\"193\"/></span>\n",
      "<span class=\"model\">Patriot 10</span>\n",
      "</a>, <a class=\"product-link\" href=\"/le-coq-sportif-alpha-craft-s859379-br161-t76-p0000172133\">\n",
      "<span class=\"thumb\"><img alt=\"Baskets Homme Alpha Craft\" class=\"lazy\" data-original=\"https://cdn.sarenza.net/_img/productsv4/0000172133/vig_0000172133_327481_12.jpg?201806201745&amp;s&amp;v=20180830155342\" height=\"99\" src=\"data:image/gif;base64,R0lGODlhAQABAAAAACH5BAEKAAEALAAAAAABAAEAAAICTAEAOw==\" title=\"Chaussure Le Coq Sportif Alpha Craft Homme\" width=\"193\"/></span>\n",
      "<span class=\"model\">Alpha Craft</span>\n",
      "</a>, <a class=\"product-link\" href=\"/bullboxer-648k56909a-s862923-br978-t76-p0000175134\">\n",
      "<span class=\"thumb\"><img alt=\"Baskets Homme 648K56909A\" class=\"lazy\" data-original=\"https://cdn.sarenza.net/_img/productsv4/0000175134/vig_0000175134_333210_12.jpg?201809121055&amp;s&amp;v=20180830155342\" height=\"99\" src=\"data:image/gif;base64,R0lGODlhAQABAAAAACH5BAEKAAEALAAAAAABAAEAAAICTAEAOw==\" title=\"Chaussure Bullboxer 648K56909A Homme\" width=\"193\"/></span>\n",
      "<span class=\"model\">648K56909A</span>\n",
      "</a>, <a class=\"product-link\" href=\"/mustang-shoes-legsar-s802570-br670-t83-p0000122770\">\n",
      "<span class=\"thumb\"><img alt=\"Bottines et boots Homme Legsar\" class=\"lazy\" data-original=\"https://cdn.sarenza.net/_img/productsv4/0000122770/vig_0000122770_267423_12.jpg?201608032042&amp;s&amp;v=20180830155342\" height=\"99\" src=\"data:image/gif;base64,R0lGODlhAQABAAAAACH5BAEKAAEALAAAAAABAAEAAAICTAEAOw==\" title=\"Chaussure Mustang shoes Legsar Homme\" width=\"193\"/></span>\n",
      "<span class=\"model\">Legsar</span>\n",
      "</a>, <a class=\"product-link\" href=\"/bullboxer-773k56897a-s862925-br978-t20-p0000175132\">\n",
      "<span class=\"thumb\"><img alt=\"Chaussures à lacets Homme 773K56897A\" class=\"lazy\" data-original=\"https://cdn.sarenza.net/_img/productsv4/0000175132/vig_0000175132_333208_12.jpg?201809041849&amp;s&amp;v=20180830155342\" height=\"99\" src=\"data:image/gif;base64,R0lGODlhAQABAAAAACH5BAEKAAEALAAAAAABAAEAAAICTAEAOw==\" title=\"Chaussure Bullboxer 773K56897A Homme\" width=\"193\"/></span>\n",
      "<span class=\"model\">773K56897A</span>\n",
      "</a>, <a class=\"product-link\" href=\"/redskins-ostan-s863297-br506-t76-p0000180209\">\n",
      "<span class=\"thumb\"><img alt=\"Baskets Homme Ostan\" class=\"lazy\" data-original=\"https://cdn.sarenza.net/_img/productsv4/0000180209/vig_0000180209_342086_12.jpg?201808221852&amp;s&amp;v=20180830155342\" height=\"99\" src=\"data:image/gif;base64,R0lGODlhAQABAAAAACH5BAEKAAEALAAAAAABAAEAAAICTAEAOw==\" title=\"Chaussure Redskins Ostan Homme\" width=\"193\"/></span>\n",
      "<span class=\"model\">Ostan</span>\n",
      "</a>, <a class=\"product-link\" href=\"/mephisto-claudio-s332-br1047-t20-p0000159476\">\n",
      "<span class=\"thumb\"><img alt=\"Chaussures à lacets Homme Claudio\" class=\"lazy\" data-original=\"https://cdn.sarenza.net/_img/productsv4/0000159476/vig_0000159476_303431_12.jpg?201708071841&amp;s&amp;v=20180830155342\" height=\"99\" src=\"data:image/gif;base64,R0lGODlhAQABAAAAACH5BAEKAAEALAAAAAABAAEAAAICTAEAOw==\" title=\"Chaussure Mephisto Claudio Homme\" width=\"193\"/></span>\n",
      "<span class=\"model\">Claudio</span>\n",
      "</a>, <a class=\"product-link\" href=\"/el-naturalista-yugen-ng24-s851913-br89-t83-p0000174108\">\n",
      "<span class=\"thumb\"><img alt=\"Bottines et boots Homme Yugen NG24\" class=\"lazy\" data-original=\"https://cdn.sarenza.net/_img/productsv4/0000174108/vig_0000174108_331423_12.jpg?201807031746&amp;s&amp;v=20180830155342\" height=\"99\" src=\"data:image/gif;base64,R0lGODlhAQABAAAAACH5BAEKAAEALAAAAAABAAEAAAICTAEAOw==\" title=\"Chaussure El Naturalista Yugen NG24 Homme\" width=\"193\"/></span>\n",
      "<span class=\"model\">Yugen NG24</span>\n",
      "</a>, <a class=\"product-link\" href=\"/pepe-jeans-tom-cut-med-boot-s332-br232-t83-p0000174770\">\n",
      "<span class=\"thumb\"><img alt=\"Bottines et boots Homme TOM-CUT MED BOOT\" class=\"lazy\" data-original=\"https://cdn.sarenza.net/_img/productsv4/0000174770/vig_0000174770_332653_12.jpg?201808131051&amp;s&amp;v=20180830155342\" height=\"99\" src=\"data:image/gif;base64,R0lGODlhAQABAAAAACH5BAEKAAEALAAAAAABAAEAAAICTAEAOw==\" title=\"Chaussure Pepe jeans TOM-CUT MED BOOT Homme\" width=\"193\"/></span>\n",
      "<span class=\"model\">TOM-CUT MED BOOT</span>\n",
      "</a>, <a class=\"product-link\" href=\"/base-london-clapham-s811448-br674-t83-p0000123057\">\n",
      "<span class=\"thumb\"><img alt=\"Bottines et boots Homme Clapham\" class=\"lazy\" data-original=\"https://cdn.sarenza.net/_img/productsv4/0000123057/vig_0000123057_230824_12.jpg?201509072141&amp;s&amp;v=20180830155342\" height=\"99\" src=\"data:image/gif;base64,R0lGODlhAQABAAAAACH5BAEKAAEALAAAAAABAAEAAAICTAEAOw==\" title=\"Chaussure Base London Clapham Homme\" width=\"193\"/></span>\n",
      "<span class=\"model\">Clapham</span>\n",
      "</a>, <a class=\"product-link\" href=\"/skechers-volden-fandom-s862183-br278-t76-p0000178029\">\n",
      "<span class=\"thumb\"><img alt=\"Baskets Homme Volden Fandom\" class=\"lazy\" data-original=\"https://cdn.sarenza.net/_img/productsv4/0000178029/vig_0000178029_338200_12.jpg?201807251901&amp;s&amp;v=20180830155342\" height=\"99\" src=\"data:image/gif;base64,R0lGODlhAQABAAAAACH5BAEKAAEALAAAAAABAAEAAAICTAEAOw==\" title=\"Chaussure Skechers Volden Fandom Homme\" width=\"193\"/></span>\n",
      "<span class=\"model\">Volden Fandom</span>\n",
      "</a>, <a class=\"product-link\" href=\"/veja-v-12-s809164-br1204-t76-p0000163938\">\n",
      "<span class=\"thumb\"><img alt=\"Baskets Homme V-12\" class=\"lazy\" data-original=\"https://cdn.sarenza.net/_img/productsv4/0000163938/vig_0000163938_327462_12.jpg?201807201755&amp;s&amp;v=20180830155342\" height=\"99\" src=\"data:image/gif;base64,R0lGODlhAQABAAAAACH5BAEKAAEALAAAAAABAAEAAAICTAEAOw==\" title=\"Chaussure Veja V-12 Homme\" width=\"193\"/></span>\n",
      "<span class=\"model\">V-12</span>\n",
      "</a>, <a class=\"product-link\" href=\"/ugg-scuff-s332-br304-t10-p0000065137\">\n",
      "<span class=\"thumb\"><img alt=\"Chaussons Homme Scuff\" class=\"lazy\" data-original=\"https://cdn.sarenza.net/_img/productsv4/0000065137/vig_0000065137_114245_12.jpg?201308140150&amp;s&amp;v=20180830155342\" height=\"99\" src=\"data:image/gif;base64,R0lGODlhAQABAAAAACH5BAEKAAEALAAAAAABAAEAAAICTAEAOw==\" title=\"Chaussure UGG Scuff Homme\" width=\"193\"/></span>\n",
      "<span class=\"model\">Scuff</span>\n",
      "</a>, <a class=\"product-link\" href=\"/mustang-shoes-uthvir-s753068-br670-t83-p0000122762\">\n",
      "<span class=\"thumb\"><img alt=\"Bottines et boots Homme Uthvir\" class=\"lazy\" data-original=\"https://cdn.sarenza.net/_img/productsv4/0000122762/vig_0000122762_230117_12.jpg?201510021148&amp;s&amp;v=20180830155342\" height=\"99\" src=\"data:image/gif;base64,R0lGODlhAQABAAAAACH5BAEKAAEALAAAAAABAAEAAAICTAEAOw==\" title=\"Chaussure Mustang shoes Uthvir Homme\" width=\"193\"/></span>\n",
      "<span class=\"model\">Uthvir</span>\n",
      "</a>, <a class=\"product-link\" href=\"/marvin-co-newcastle-s816680-br805-t20-p0000139365\">\n",
      "<span class=\"thumb\"><img alt=\"Chaussures à lacets Homme Newcastle\" class=\"lazy\" data-original=\"https://cdn.sarenza.net/_img/productsv4/0000139365/vig_0000139365_264593_12.jpg?201608012041&amp;s&amp;v=20180830155342\" height=\"99\" src=\"data:image/gif;base64,R0lGODlhAQABAAAAACH5BAEKAAEALAAAAAABAAEAAAICTAEAOw==\" title=\"Chaussure Marvin&amp;Co Newcastle Homme\" width=\"193\"/></span>\n",
      "<span class=\"model\">Newcastle</span>\n",
      "</a>, <a class=\"product-link\" href=\"/new-balance-mrl420-s752210-br208-t76-p0000139379\">\n",
      "<span class=\"thumb\"><img alt=\"Baskets Homme MRL420\" class=\"lazy\" data-original=\"https://cdn.sarenza.net/_img/productsv4/0000139379/vig_0000139379_283400_12.jpg?201701111940&amp;s&amp;v=20180830155342\" height=\"99\" src=\"data:image/gif;base64,R0lGODlhAQABAAAAACH5BAEKAAEALAAAAAABAAEAAAICTAEAOw==\" title=\"Chaussure New Balance MRL420 Homme\" width=\"193\"/></span>\n",
      "<span class=\"model\">MRL420</span>\n",
      "</a>, <a class=\"product-link\" href=\"/mustang-shoes-hugo-s864222-br670-t83-p0000181738\">\n",
      "<span class=\"thumb\"><img alt=\"Bottines et boots Homme Hugo\" class=\"lazy\" data-original=\"https://cdn.sarenza.net/_img/productsv4/0000181738/vig_0000181738_345060_12.jpg?201809141905&amp;s&amp;v=20180830155342\" height=\"99\" src=\"data:image/gif;base64,R0lGODlhAQABAAAAACH5BAEKAAEALAAAAAABAAEAAAICTAEAOw==\" title=\"Chaussure Mustang shoes Hugo Homme\" width=\"193\"/></span>\n",
      "<span class=\"model\">Hugo</span>\n",
      "</a>, <a class=\"product-link\" href=\"/fred-perry-baseline-leather-s860698-br106-t76-p0000174567\">\n",
      "<span class=\"thumb\"><img alt=\"Baskets Homme Baseline Leather\" class=\"lazy\" data-original=\"https://cdn.sarenza.net/_img/productsv4/0000174567/vig_0000174567_332230_12.jpg?201809211845&amp;s&amp;v=20180830155342\" height=\"99\" src=\"data:image/gif;base64,R0lGODlhAQABAAAAACH5BAEKAAEALAAAAAABAAEAAAICTAEAOw==\" title=\"Chaussure Fred Perry Baseline Leather Homme\" width=\"193\"/></span>\n",
      "<span class=\"model\">Baseline Leather</span>\n",
      "</a>, <a class=\"product-link\" href=\"/rieker-anil-17622-s1779-br716-t20-p0000177566\">\n",
      "<span class=\"thumb\"><img alt=\"Chaussures à lacets Homme Anil 17622\" class=\"lazy\" data-original=\"https://cdn.sarenza.net/_img/productsv4/0000177566/vig_0000177566_337418_12.jpg?201807301204&amp;s&amp;v=20180830155342\" height=\"99\" src=\"data:image/gif;base64,R0lGODlhAQABAAAAACH5BAEKAAEALAAAAAABAAEAAAICTAEAOw==\" title=\"Chaussure Rieker Anil 17622 Homme\" width=\"193\"/></span>\n",
      "<span class=\"model\">Anil 17622</span>\n",
      "</a>, <a class=\"product-link\" href=\"/mr-sarenza-nathanael-s796695-br1395-t20-p0000136614\">\n",
      "<span class=\"thumb\"><img alt=\"Chaussures à lacets Homme Nathanael\" class=\"lazy\" data-original=\"https://cdn.sarenza.net/_img/productsv4/0000136614/vig_0000136614_259973_12.jpg?201607221148&amp;s&amp;v=20180830155342\" height=\"99\" src=\"data:image/gif;base64,R0lGODlhAQABAAAAACH5BAEKAAEALAAAAAABAAEAAAICTAEAOw==\" title=\"Chaussure Mr SARENZA Nathanael Homme\" width=\"193\"/></span>\n",
      "<span class=\"model\">Nathanael</span>\n",
      "</a>, <a class=\"product-link\" href=\"/jack---jones-jfwalbany-s31-br1029-t83-p0000174419\">\n",
      "<span class=\"thumb\"><img alt=\"Bottines et boots Homme JFWALBANY\" class=\"lazy\" data-original=\"https://cdn.sarenza.net/_img/productsv4/0000174419/vig_0000174419_331951_12.jpg?201808021048&amp;s&amp;v=20180830155342\" height=\"99\" src=\"data:image/gif;base64,R0lGODlhAQABAAAAACH5BAEKAAEALAAAAAABAAEAAAICTAEAOw==\" title=\"Chaussure Jack &amp; Jones JFWALBANY Homme\" width=\"193\"/></span>\n",
      "<span class=\"model\">JFWALBANY</span>\n",
      "</a>, <a class=\"product-link\" href=\"/marvin-co-torbay-s785959-br805-t83-p0000141518\">\n",
      "<span class=\"thumb\"><img alt=\"Bottines et boots Homme Torbay\" class=\"lazy\" data-original=\"https://cdn.sarenza.net/_img/productsv4/0000141518/vig_0000141518_268995_12.jpg?201608011856&amp;s&amp;v=20180830155342\" height=\"99\" src=\"data:image/gif;base64,R0lGODlhAQABAAAAACH5BAEKAAEALAAAAAABAAEAAAICTAEAOw==\" title=\"Chaussure Marvin&amp;Co Torbay Homme\" width=\"193\"/></span>\n",
      "<span class=\"model\">Torbay</span>\n",
      "</a>, <a class=\"product-link\" href=\"/new-balance-ml373-s752327-br208-t76-p0000118462\">\n",
      "<span class=\"thumb\"><img alt=\"Baskets Homme ML373\" class=\"lazy\" data-original=\"https://cdn.sarenza.net/_img/productsv4/0000118462/vig_0000118462_335611_12.jpg?201807191753&amp;s&amp;v=20180830155342\" height=\"99\" src=\"data:image/gif;base64,R0lGODlhAQABAAAAACH5BAEKAAEALAAAAAABAAEAAAICTAEAOw==\" title=\"Chaussure New Balance ML373 Homme\" width=\"193\"/></span>\n",
      "<span class=\"model\">ML373</span>\n",
      "</a>, <a class=\"product-link\" href=\"/redskins-sabar-s2801-br506-t76-p0000145814\">\n",
      "<span class=\"thumb\"><img alt=\"Baskets Homme Sabar\" class=\"lazy\" data-original=\"https://cdn.sarenza.net/_img/productsv4/0000145814/vig_0000145814_304523_12.jpg?201709271640&amp;s&amp;v=20180830155342\" height=\"99\" src=\"data:image/gif;base64,R0lGODlhAQABAAAAACH5BAEKAAEALAAAAAABAAEAAAICTAEAOw==\" title=\"Chaussure Redskins Sabar Homme\" width=\"193\"/></span>\n",
      "<span class=\"model\">Sabar</span>\n",
      "</a>, <a class=\"product-link\" href=\"/geox-u-zal-a-u84u5a-s332-br111-t83-p0000176161\">\n",
      "<span class=\"thumb\"><img alt=\"Bottines et boots Homme U  ZAL A U84U5A\" class=\"lazy\" data-original=\"https://cdn.sarenza.net/_img/productsv4/0000176161/vig_0000176161_334717_12.jpg?201809181852&amp;s&amp;v=20180830155342\" height=\"99\" src=\"data:image/gif;base64,R0lGODlhAQABAAAAACH5BAEKAAEALAAAAAABAAEAAAICTAEAOw==\" title=\"Chaussure Geox U  ZAL A U84U5A Homme\" width=\"193\"/></span>\n",
      "<span class=\"model\">U  ZAL A U84U5A</span>\n",
      "</a>, <a class=\"product-link\" href=\"/marvin-co-luxe-danow---cousu-blake-s860602-br1218-t83-p0000174128\">\n",
      "<span class=\"thumb\"><img alt=\"Bottines et boots Homme Danow - Cousu Blake\" class=\"lazy\" data-original=\"https://cdn.sarenza.net/_img/productsv4/0000174128/vig_0000174128_331468_12.jpg?201807021152&amp;s&amp;v=20180830155342\" height=\"99\" src=\"data:image/gif;base64,R0lGODlhAQABAAAAACH5BAEKAAEALAAAAAABAAEAAAICTAEAOw==\" title=\"Chaussure Marvin&amp;Co Luxe Danow - Cousu Blake Homme\" width=\"193\"/></span>\n",
      "<span class=\"model\">Danow - Cousu Blake</span>\n",
      "</a>, <a class=\"product-link\" href=\"/geox-u-symbol-a-u74a5a-s751232-br111-t76-p0000161068\">\n",
      "<span class=\"thumb\"><img alt=\"Baskets Homme U Symbol A U74A5A\" class=\"lazy\" data-original=\"https://cdn.sarenza.net/_img/productsv4/0000161068/vig_0000161068_306439_12.jpg?201708021741&amp;s&amp;v=20180830155342\" height=\"99\" src=\"data:image/gif;base64,R0lGODlhAQABAAAAACH5BAEKAAEALAAAAAABAAEAAAICTAEAOw==\" title=\"Chaussure Geox U Symbol A U74A5A Homme\" width=\"193\"/></span>\n",
      "<span class=\"model\">U Symbol A U74A5A</span>\n",
      "</a>, <a class=\"product-link\" href=\"/new-balance-u520-s861486-br208-t76-p0000159485\">\n",
      "<span class=\"thumb\"><img alt=\"Baskets Homme U520\" class=\"lazy\" data-original=\"https://cdn.sarenza.net/_img/productsv4/0000159485/vig_0000159485_335603_12.jpg?201807191754&amp;s&amp;v=20180830155342\" height=\"99\" src=\"data:image/gif;base64,R0lGODlhAQABAAAAACH5BAEKAAEALAAAAAABAAEAAAICTAEAOw==\" title=\"Chaussure New Balance U520 Homme\" width=\"193\"/></span>\n",
      "<span class=\"model\">U520</span>\n",
      "</a>, <a class=\"product-link\" href=\"/mr-sarenza-walboots-s840152-br1395-t83-p0000136675\">\n",
      "<span class=\"thumb\"><img alt=\"Bottines et boots Homme Walboots\" class=\"lazy\" data-original=\"https://cdn.sarenza.net/_img/productsv4/0000136675/vig_0000136675_260132_12.jpg?201609141430&amp;s&amp;v=20180830155342\" height=\"99\" src=\"data:image/gif;base64,R0lGODlhAQABAAAAACH5BAEKAAEALAAAAAABAAEAAAICTAEAOw==\" title=\"Chaussure Mr SARENZA Walboots Homme\" width=\"193\"/></span>\n",
      "<span class=\"model\">Walboots</span>\n",
      "</a>, <a class=\"product-link\" href=\"/marvin-co-luxe-walfred---cousu-blake-s851520-br1218-t83-p0000137203\">\n",
      "<span class=\"thumb\"><img alt=\"Bottines et boots Homme Walfred - Cousu Blake\" class=\"lazy\" data-original=\"https://cdn.sarenza.net/_img/productsv4/0000137203/vig_0000137203_261218_12.jpg?201607201841&amp;s&amp;v=20180830155342\" height=\"99\" src=\"data:image/gif;base64,R0lGODlhAQABAAAAACH5BAEKAAEALAAAAAABAAEAAAICTAEAOw==\" title=\"Chaussure Marvin&amp;Co Luxe Walfred - Cousu Blake Homme\" width=\"193\"/></span>\n",
      "<span class=\"model\">Walfred - Cousu Blake</span>\n",
      "</a>]\n"
     ]
    },
    {
     "ename": "NameError",
     "evalue": "name 'Name' is not defined",
     "output_type": "error",
     "traceback": [
      "\u001b[0;31m---------------------------------------------------------------------------\u001b[0m",
      "\u001b[0;31mNameError\u001b[0m                                 Traceback (most recent call last)",
      "\u001b[0;32m<ipython-input-15-a1b53313c96d>\u001b[0m in \u001b[0;36m<module>\u001b[0;34m()\u001b[0m\n\u001b[1;32m      5\u001b[0m     \u001b[0mi\u001b[0m \u001b[0;34m+=\u001b[0m \u001b[0;36m1\u001b[0m\u001b[0;34m\u001b[0m\u001b[0m\n\u001b[1;32m      6\u001b[0m     \u001b[0mlink_to_product\u001b[0m \u001b[0;34m=\u001b[0m \u001b[0mproduct\u001b[0m\u001b[0;34m[\u001b[0m\u001b[0;34m'href'\u001b[0m\u001b[0;34m]\u001b[0m\u001b[0;34m\u001b[0m\u001b[0m\n\u001b[0;32m----> 7\u001b[0;31m     \u001b[0mhtml_page\u001b[0m \u001b[0;34m=\u001b[0m \u001b[0mrequests\u001b[0m\u001b[0;34m.\u001b[0m\u001b[0mget\u001b[0m\u001b[0;34m(\u001b[0m\u001b[0mName\u001b[0m\u001b[0;34m)\u001b[0m\u001b[0;34m\u001b[0m\u001b[0m\n\u001b[0m\u001b[1;32m      8\u001b[0m     \u001b[0msoupProduct\u001b[0m \u001b[0;34m=\u001b[0m \u001b[0mBeautifulSoup\u001b[0m\u001b[0;34m(\u001b[0m\u001b[0mhtml_page\u001b[0m\u001b[0;34m.\u001b[0m\u001b[0mtext\u001b[0m\u001b[0;34m,\u001b[0m \u001b[0;34m'lxml'\u001b[0m\u001b[0;34m)\u001b[0m\u001b[0;34m\u001b[0m\u001b[0m\n\u001b[1;32m      9\u001b[0m     \u001b[0mprint\u001b[0m\u001b[0;34m(\u001b[0m\u001b[0;34m\"Scraping image no\"\u001b[0m\u001b[0;34m,\u001b[0m \u001b[0mi\u001b[0m\u001b[0;34m)\u001b[0m\u001b[0;34m\u001b[0m\u001b[0m\n",
      "\u001b[0;31mNameError\u001b[0m: name 'Name' is not defined"
     ]
    }
   ],
   "source": [
    "links = soup.findAll('a', {'class':'product-link'})\n",
    "print(links)\n",
    "i = 0\n",
    "for product in links:\n",
    "    i += 1\n",
    "    link_to_product = product['href']\n",
    "    Name = (\"http://www.sarenza.com\" + link_to_product)\n",
    "    html_page = requests.get(Name)\n",
    "    soupProduct = BeautifulSoup(html_page.text, 'lxml')\n",
    "    print(\"Scraping image no\", i)\n",
    "\n",
    "    "
   ]
  },
  {
   "cell_type": "code",
   "execution_count": null,
   "metadata": {},
   "outputs": [],
   "source": []
  }
 ],
 "metadata": {
  "kernelspec": {
   "display_name": "Python 3",
   "language": "python",
   "name": "python3"
  },
  "language_info": {
   "codemirror_mode": {
    "name": "ipython",
    "version": 3
   },
   "file_extension": ".py",
   "mimetype": "text/x-python",
   "name": "python",
   "nbconvert_exporter": "python",
   "pygments_lexer": "ipython3",
   "version": "3.5.2"
  }
 },
 "nbformat": 4,
 "nbformat_minor": 2
}
