{
 "cells": [
  {
   "cell_type": "markdown",
   "metadata": {},
   "source": [
     "# Scraping H&M"
   ]
  },
  {
   "cell_type": "markdown",
   "metadata": {},
   "source": [
    "Little web scraper for the Abercrombie & Fitch website. The goal is to complete our database by adding some clothes in the unballanced categories."
   ]
  },
  {
   "cell_type": "code",
   "execution_count": 6,
   "metadata": {},
   "outputs": [],
   "source": [
    "from bs4 import BeautifulSoup\n",
    "import requests\n",
    "import urllib.request\n",
    "import sys\n",
    "import os\n",
    "import traceback\n",
    "import re\n",
    "import time\n",
    "import json\n",
    "import unidecode"
   ]
  },
  {
   "cell_type": "markdown",
   "metadata": {},
   "source": [
    "We use our usual headers."
   ]
  },
  {
   "cell_type": "code",
   "execution_count": 7,
   "metadata": {},
   "outputs": [],
   "source": [
    "headers = {'User-Agent': 'Mozilla/5.0 (X11; Ubuntu; Linux x86_64; rv:62.0) Gecko/20100101 Firefox/62.0'}\n",
    "Base = 'https://www2.hm.com'"
   ]
  },
  {
   "cell_type": "code",
   "execution_count": 8,
   "metadata": {},
   "outputs": [],
   "source": [
    "url = 'https://www2.hm.com/fr_fr/homme/catalogue-par-produit/pantalons/pantalon-de-jogging.html?sort=stock&image-size=small&image=model&offset=0&page-size=72'\n",
    "html = requests.get(url, headers = headers)"
   ]
  },
  {
   "cell_type": "markdown",
   "metadata": {},
   "source": [
    "Create a Beautiful Soup object."
   ]
  },
  {
   "cell_type": "code",
   "execution_count": 11,
   "metadata": {},
   "outputs": [
    {
     "name": "stdout",
     "output_type": "stream",
     "text": [
      "hey\n"
     ]
    }
   ],
   "source": [
    "soup = BeautifulSoup(html.text, 'lxml')\n",
    "print(\"hey\")"
   ]
  },
  {
   "cell_type": "markdown",
   "metadata": {},
   "source": [
    "We're just gonna get all the images on the url, as we don't want to scrap the whole website changing manually the url is not a big deal."
   ]
  },
  {
   "cell_type": "code",
   "execution_count": 12,
   "metadata": {},
   "outputs": [
    {
     "name": "stdout",
     "output_type": "stream",
     "text": [
      "533\n"
     ]
    }
   ],
   "source": [
    "links = soup.findAll(\"a\", {\"class\":\"item-link\"})\n",
    "urls = []\n",
    "for ind, link in enumerate(links):\n",
    "    html_product = requests.get(Base+ link['href'], headers = headers)\n",
    "    soupProduct = BeautifulSoup(html_product.text, 'lxml')\n",
    "    images = soupProduct.findAll('img')\n",
    "    for img in images:\n",
    "        name = 'https:' + img.get('src').replace(\"miniature\", \"main\").replace(\" \", \"\")\n",
    "        urls.append(name)\n",
    "        \n",
    "print(len(urls))"
   ]
  },
  {
   "cell_type": "markdown",
   "metadata": {},
   "source": [
    "Now we can download all the images. Since we have only a few images, we order them by hand this time."
   ]
  },
  {
   "cell_type": "code",
   "execution_count": 13,
   "metadata": {
    "scrolled": false
   },
   "outputs": [
    {
     "name": "stdout",
     "output_type": "stream",
     "text": [
      "Downloading image no. 0\n",
      "Downloading image no. 1\n",
      "Downloading image no. 2\n",
      "Downloading image no. 3\n",
      "Downloading image no. 4\n",
      "Downloading image no. 5\n",
      "Downloading image no. 6\n",
      "Downloading image no. 7\n",
      "Downloading image no. 8\n",
      "Downloading image no. 9\n",
      "Downloading image no. 10\n",
      "Downloading image no. 11\n",
      "Downloading image no. 12\n",
      "Downloading image no. 13\n",
      "Downloading image no. 14\n",
      "Downloading image no. 15\n",
      "Downloading image no. 16\n",
      "Downloading image no. 17\n",
      "Downloading image no. 18\n",
      "Downloading image no. 19\n",
      "Downloading image no. 20\n",
      "Downloading image no. 21\n",
      "Downloading image no. 22\n",
      "Downloading image no. 23\n",
      "Downloading image no. 24\n",
      "Downloading image no. 25\n",
      "Downloading image no. 26\n",
      "Downloading image no. 27\n",
      "Downloading image no. 28\n",
      "Downloading image no. 29\n",
      "Downloading image no. 30\n",
      "Downloading image no. 31\n",
      "Downloading image no. 32\n",
      "Downloading image no. 33\n",
      "Downloading image no. 34\n",
      "Downloading image no. 35\n",
      "Downloading image no. 36\n",
      "Downloading image no. 37\n",
      "Downloading image no. 38\n",
      "Downloading image no. 39\n",
      "Downloading image no. 40\n",
      "Downloading image no. 41\n",
      "Downloading image no. 42\n",
      "Downloading image no. 43\n",
      "Downloading image no. 44\n",
      "Downloading image no. 45\n",
      "Downloading image no. 46\n",
      "Downloading image no. 47\n",
      "Downloading image no. 48\n",
      "Downloading image no. 49\n",
      "Downloading image no. 50\n",
      "Downloading image no. 51\n",
      "Downloading image no. 52\n",
      "Downloading image no. 53\n",
      "Downloading image no. 54\n",
      "Downloading image no. 55\n",
      "Downloading image no. 56\n",
      "Downloading image no. 57\n",
      "Downloading image no. 58\n",
      "Downloading image no. 59\n",
      "Downloading image no. 60\n",
      "Downloading image no. 61\n",
      "Downloading image no. 62\n",
      "Downloading image no. 63\n",
      "Downloading image no. 64\n",
      "Downloading image no. 65\n",
      "Downloading image no. 66\n",
      "Downloading image no. 67\n",
      "Downloading image no. 68\n",
      "Downloading image no. 69\n",
      "Downloading image no. 70\n",
      "Downloading image no. 71\n",
      "Downloading image no. 72\n",
      "Downloading image no. 73\n",
      "Downloading image no. 74\n",
      "Downloading image no. 75\n",
      "Downloading image no. 76\n",
      "Downloading image no. 77\n",
      "Downloading image no. 78\n",
      "Downloading image no. 79\n",
      "Downloading image no. 80\n",
      "Downloading image no. 81\n",
      "Downloading image no. 82\n",
      "Downloading image no. 83\n",
      "Downloading image no. 84\n",
      "Downloading image no. 85\n",
      "Downloading image no. 86\n",
      "Downloading image no. 87\n",
      "Downloading image no. 88\n",
      "Downloading image no. 89\n",
      "Downloading image no. 90\n",
      "Downloading image no. 91\n",
      "Downloading image no. 92\n",
      "Downloading image no. 93\n",
      "Downloading image no. 94\n",
      "Downloading image no. 95\n",
      "Downloading image no. 96\n",
      "Downloading image no. 97\n",
      "Downloading image no. 98\n",
      "Downloading image no. 99\n",
      "Downloading image no. 100\n",
      "Downloading image no. 101\n",
      "Downloading image no. 102\n",
      "Downloading image no. 103\n",
      "Downloading image no. 104\n",
      "Downloading image no. 105\n",
      "Downloading image no. 106\n",
      "Downloading image no. 107\n",
      "Downloading image no. 108\n",
      "Downloading image no. 109\n",
      "Downloading image no. 110\n",
      "Downloading image no. 111\n",
      "Downloading image no. 112\n",
      "Downloading image no. 113\n",
      "Downloading image no. 114\n",
      "Downloading image no. 115\n",
      "Downloading image no. 116\n",
      "Downloading image no. 117\n",
      "Downloading image no. 118\n",
      "Downloading image no. 119\n",
      "Downloading image no. 120\n",
      "Downloading image no. 121\n",
      "Downloading image no. 122\n",
      "Downloading image no. 123\n",
      "Downloading image no. 124\n",
      "Downloading image no. 125\n",
      "Downloading image no. 126\n",
      "Downloading image no. 127\n",
      "Downloading image no. 128\n",
      "Downloading image no. 129\n",
      "Downloading image no. 130\n",
      "Downloading image no. 131\n",
      "Downloading image no. 132\n",
      "Downloading image no. 133\n",
      "Downloading image no. 134\n",
      "Downloading image no. 135\n",
      "Downloading image no. 136\n",
      "Downloading image no. 137\n",
      "Downloading image no. 138\n",
      "Downloading image no. 139\n",
      "Downloading image no. 140\n",
      "Downloading image no. 141\n",
      "Downloading image no. 142\n",
      "Downloading image no. 143\n",
      "Downloading image no. 144\n",
      "Downloading image no. 145\n",
      "Downloading image no. 146\n",
      "Downloading image no. 147\n",
      "Downloading image no. 148\n",
      "Downloading image no. 149\n",
      "Downloading image no. 150\n",
      "Downloading image no. 151\n",
      "Downloading image no. 152\n",
      "Downloading image no. 153\n",
      "Downloading image no. 154\n",
      "Downloading image no. 155\n",
      "Downloading image no. 156\n",
      "Downloading image no. 157\n",
      "Downloading image no. 158\n",
      "Downloading image no. 159\n",
      "Downloading image no. 160\n",
      "Downloading image no. 161\n",
      "Downloading image no. 162\n",
      "Downloading image no. 163\n",
      "Downloading image no. 164\n",
      "Downloading image no. 165\n",
      "Downloading image no. 166\n",
      "Downloading image no. 167\n",
      "Downloading image no. 168\n",
      "Downloading image no. 169\n",
      "Downloading image no. 170\n",
      "Downloading image no. 171\n",
      "Downloading image no. 172\n",
      "Downloading image no. 173\n",
      "Downloading image no. 174\n",
      "Downloading image no. 175\n",
      "Downloading image no. 176\n",
      "Downloading image no. 177\n",
      "Downloading image no. 178\n",
      "Downloading image no. 179\n",
      "Downloading image no. 180\n",
      "Downloading image no. 181\n",
      "Downloading image no. 182\n",
      "Downloading image no. 183\n",
      "Downloading image no. 184\n",
      "Downloading image no. 185\n",
      "Error while downloading the image.\n",
      "Downloading image no. 187\n"
     ]
    }
   ],
   "source": [
    "for ind, web in enumerate(list(set(urls))):\n",
    "    try:\n",
    "        file_name = '/media/arthur/DATA/Databases/Complement/Casuals/' + \"product\" + str(ind)\n",
    "        f = open(file_name, 'wb') \n",
    "        urllib.request.urlretrieve(web, file_name)\n",
    "        f.close()\n",
    "        print(\"Downloading image no.\", ind)\n",
    "    except:\n",
    "        print(\"Error while downloading the image.\")"
   ]
  },
  {
   "cell_type": "code",
   "execution_count": null,
   "metadata": {},
   "outputs": [],
   "source": []
  },
  {
   "cell_type": "code",
   "execution_count": null,
   "metadata": {},
   "outputs": [],
   "source": []
  }
 ],
 "metadata": {
  "kernelspec": {
   "display_name": "Python 3",
   "language": "python",
   "name": "python3"
  },
  "language_info": {
   "codemirror_mode": {
    "name": "ipython",
    "version": 3
   },
   "file_extension": ".py",
   "mimetype": "text/x-python",
   "name": "python",
   "nbconvert_exporter": "python",
   "pygments_lexer": "ipython3",
   "version": "3.5.2"
  }
 },
 "nbformat": 4,
 "nbformat_minor": 2
}
