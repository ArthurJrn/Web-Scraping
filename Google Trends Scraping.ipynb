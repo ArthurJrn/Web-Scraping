{
 "cells": [
  {
   "cell_type": "markdown",
   "metadata": {},
   "source": [
    "# Scraping Google Trends"
   ]
  },
  {
   "cell_type": "markdown",
   "metadata": {},
   "source": [
    "Quick tryout to scrap the top 20 Google Trends in France and the US. The goal of this file is to be excuted everyday at 23h59 to get a fair glimpse of the state of local internet."
   ]
  },
  {
   "cell_type": "code",
   "execution_count": 57,
   "metadata": {},
   "outputs": [],
   "source": [
    "from bs4 import BeautifulSoup\n",
    "import requests\n",
    "import urllib.request\n",
    "import sys\n",
    "import os\n",
    "import traceback\n",
    "import re\n",
    "import time\n",
    "import json\n",
    "import unidecode\n"
   ]
  },
  {
   "cell_type": "markdown",
   "metadata": {},
   "source": [
    "We're gonna try with one headers first. If this doesn't work, we're gonna try proxy rotation and multi-headers to hide our identity. But given the fact that we are not going to scrap a lot of data, we might be able to go anonymous."
   ]
  },
  {
   "cell_type": "code",
   "execution_count": 2,
   "metadata": {},
   "outputs": [],
   "source": [
    "headers = {'User-Agent': 'Mozilla/5.0 (X11; Ubuntu; Linux x86_64; rv:62.0) Gecko/20100101 Firefox/62.0'}"
   ]
  },
  {
   "cell_type": "markdown",
   "metadata": {},
   "source": [
    "Our main URL will be Google Trends' RSS flux (easier), we'll then try for each country."
   ]
  },
  {
   "cell_type": "code",
   "execution_count": 39,
   "metadata": {},
   "outputs": [],
   "source": [
    "url = 'https://trends.google.fr/trends/trendingsearches/daily/rss?geo=US'"
   ]
  },
  {
   "cell_type": "markdown",
   "metadata": {},
   "source": [
    "Get the html file."
   ]
  },
  {
   "cell_type": "code",
   "execution_count": 40,
   "metadata": {},
   "outputs": [],
   "source": [
    "html = requests.get(url, headers=headers)"
   ]
  },
  {
   "cell_type": "markdown",
   "metadata": {},
   "source": [
    "Create a Beautiful Soup object."
   ]
  },
  {
   "cell_type": "code",
   "execution_count": 41,
   "metadata": {},
   "outputs": [],
   "source": [
    "soup = BeautifulSoup(html.text, \"lxml\")"
   ]
  },
  {
   "cell_type": "markdown",
   "metadata": {},
   "source": [
    "Get the list of all items available."
   ]
  },
  {
   "cell_type": "code",
   "execution_count": 42,
   "metadata": {},
   "outputs": [
    {
     "name": "stdout",
     "output_type": "stream",
     "text": [
      "Number of items available : 20\n"
     ]
    }
   ],
   "source": [
    "items = soup.findAll('item')\n",
    "print(\"Number of items available :\", len(countries))"
   ]
  },
  {
   "cell_type": "markdown",
   "metadata": {},
   "source": [
    "Get the most popular search in France."
   ]
  },
  {
   "cell_type": "code",
   "execution_count": 43,
   "metadata": {},
   "outputs": [
    {
     "name": "stdout",
     "output_type": "stream",
     "text": [
      "Champions League\n"
     ]
    }
   ],
   "source": [
    "search = soup.find('item')\n",
    "print(search.title.text)"
   ]
  },
  {
   "cell_type": "markdown",
   "metadata": {},
   "source": [
    "Iterate over all 20 trends searchs, get all titles."
   ]
  },
  {
   "cell_type": "code",
   "execution_count": 44,
   "metadata": {},
   "outputs": [
    {
     "name": "stdout",
     "output_type": "stream",
     "text": [
      "['Champions League', 'Post Malone', 'Ricin', 'Real Madrid', 'Toys R Us', 'Amazon jobs', 'Venom review', 'Hailey Baldwin', 'CSKA Moscow vs Real Madrid', 'Christian Yelich', 'Fred Trump', 'Tom Petty', 'Juventus', 'LaMelo Ball', 'Ruby Rose', 'Jake Paul', 'Brooks Koepka', 'A Star Is Born Original', 'Anna Faris', 'Megyn Kelly']\n"
     ]
    }
   ],
   "source": [
    "top_searchs = []\n",
    "for item in items:\n",
    "    top_searchs.append(item.title.text)\n",
    "print(top_searchs)"
   ]
  },
  {
   "cell_type": "markdown",
   "metadata": {},
   "source": [
    "Now get the top search for all countries with roman alpahabet."
   ]
  },
  {
   "cell_type": "code",
   "execution_count": 60,
   "metadata": {},
   "outputs": [
    {
     "name": "stdout",
     "output_type": "stream",
     "text": [
      "{'PL': ['Getback', 'Olga Boladz', 'Real Cska', 'Wiatr', 'Liga Mistrzow', 'Bayern - Ajax Amsterdam', 'Alert RCB', 'Juventus - Young Boys', 'Sapkowski', 'Unia Hrubieszow - Gornik Zabrze', 'Jozef Unrug', 'Sebastian Fabijanski', 'Grzegorz Russak', 'Liga Mistrzow 2018', 'Michal Szpak', 'Dziennikarz motoryzacyjny', 'Kasia Tusk', '1983', 'Protest sluzb mundurowych', 'Protest Policji'], 'AR': ['Rocio Guirao Diaz', 'Dia del Odontologo', 'Patricia Pacheco', 'CSKA Moscu contra Real Madrid', 'DEPORTES', 'Boca', 'Juventus', 'Sabat', 'Pollo Alvarez', 'Fernanda Meneses', 'Sol Perez', 'Barcelona', 'Anama Ferreira', 'ShowMatch', 'Del Potro', 'Luis Ortega', 'Estadio Monumental Antonio Vespucio Liberti', 'Estudiantes', 'Nicole Neumann', 'Manchester City'], 'CO': ['Millonarios', 'River Plate', 'Juventus', 'Bayern contra Ajax', 'Leo Dan', 'Manchester United', 'Genesis Rua', 'Manchester City', 'La Ley del Corazon 2 Rcn', 'Espn en Vivo', 'Juanes', 'Canal 1', 'Real Madrid', 'Enrique Colavizza', 'RCN', 'Charles Aznavour', 'Leonardo Favio', 'OEA', 'pico y placa Bucaramanga', 'Melina Ramirez'], 'FR': ['Redoine Faid', 'Antoine Zoia', 'Timothee Chalamet', 'Hailey Baldwin', 'Honor 8X', 'Sandrine Bonnaire', 'Carburant', 'Lyon - Chakhtar', 'Ligue des champions', 'Gerard Collomb', 'CSKA Moscou - Real', 'Bradley Cooper', 'Juventus - Young Boys', 'tirage Euromillion', 'RMC Sport', 'Kathryn Mayorga', 'Manchester City', 'Gerard Mourou', 'Les incorruptibles', 'PSG - Etoile Rouge'], 'KE': ['Champions League results', 'Kashima Antlers Suwon Samsung', 'Tottenham vs Barcelona', 'Man City results', 'Valencia', 'Hoffenheim vs Man. City', 'Juventus', 'Man United vs Valencia', 'LIVE Scores', 'Juventus vs Young', 'Everton vs Southampton', 'Aston Villa Fc', 'Champions League Fixtures', 'Bayern Munich vs Ajax', 'UEFA', 'Lyon Shakhtar Donetsk', 'Ipswich Middlesbrough', 'Hull City Leeds', 'Barnsley Fc', 'Wigan'], 'MX': ['ameba come cerebros', 'Cubs', 'Cruz Azul Contra Juarez', 'Juventus', 'Monterrey contra Zacatepec', '3 de octubre', 'Luis Echeverria', 'Twenty One Pilots', 'Barcelona', 'Kim Kardashian', 'Rojo amanecer', 'David Harbour', 'Un Extrano Enemigo', 'Maps Google Maps', 'Jimmy Bennett', 'Manchester United', 'Manchester City', 'Kathryn Mayorga', 'Papiloma Humano', 'totoaba'], 'IT': ['Vodafone non funziona', 'Instagram down', 'Alessandra Sgolastra', 'Nicolas Cage', 'Recanati', 'Ibrahimovic', 'Andrea Zenga', 'Piatek', 'Cska Mosca - Real Madrid', 'Riace', 'Graduatoria Medicina 2018', 'Tgcom24', 'Piatek Infortunio', 'Manchester City', 'UNBROKEN', 'partite oggi', 'Manchester United', 'Manchester Valencia', 'Casalino', 'Santo del giorno'], 'NL': ['Instagram storing', 'Sport', 'Matthijs De Ligt', 'Frans Meijer', 'Dokters van morgen', 'Leids Ontzet', 'Volkert van der Graaf', 'Johnny de Mol', 'Real Madrid', 'Koos Alberts', 'Hoffenheim', 'Benfica', 'Juventus', 'Sharon Gesthuizen', 'Ribery', 'Dienstplicht', 'Giro 555', 'Max Moszkowicz', 'PSV Inter Milan', 'Hailey Baldwin'], 'ZA': ['PSL Results', 'Champions League results', 'petrol price Increase October 2018', 'William Nicol', 'Nicholas Ninow', 'James Nee', 'Sasha Martinengo', 'CSKA Moscow vs Real Madrid', 'Juventus', 'Hoffenheim vs Man. City', 'Man United vs Valencia', 'Zalebs', 'Champions League Fixtures', 'Cape Town City vs Bidvest Wits', 'Petrol price', 'France Lotto Results 2018', 'Dave Chappelle', 'Bafana Bafana', 'Gmail', 'FNB'], 'AU': ['Instagram', 'Red Symons', 'Max Brenner', 'Juventus', 'Andrew Gaff', 'Uefa Champions League', 'October 3rd', 'Post Malone', 'Buffalo Creek reserve', 'Mark LeCras', 'Tampon tax', 'Hailey Baldwin', 'Juventus vs Young Boys', 'UCL', 'Venom', 'Champions League', 'DFO Perth', 'Charles Aznavour', 'Ron Casey', 'The Block'], 'IE': ['Champions League results', 'Instagram down', 'Champions League', 'Man United vs Valencia', \"children's allowance\", 'Man City', 'Venom', 'Real Madrid', 'Champions League Fixtures', 'Juventus', 'Leeds United', 'Everton vs Southampton', 'Brooks Koepka', 'Cork Airport', 'Sean Dunne', 'Primera Air', 'McGregor v Khabib', 'Boris Johnson', 'Aston Villa', 'Mary Prince'], 'US': ['Champions League', 'Real Madrid', 'Post Malone', 'Ricin', 'Toys R Us', 'Amazon jobs', 'Venom review', 'Hailey Baldwin', 'Christian Yelich', 'Tom Petty', 'Juventus', 'LaMelo Ball', 'Ruby Rose', 'Jake Paul', 'October 3', 'Brooks Koepka', 'Anna Faris', 'A Star Is Born Original', 'Megyn Kelly', 'Donna Strickland'], 'CZ': ['mamba zelena', 'O2 TV', 'AS Rim - Plzen', 'CSKA - Real', 'Liga mistru', 'Petr Stepanek', 'Polna', 'Rasin', 'Kodiaq RS', 'Skoda Vision RS', 'Martin Stropnicky', 'GOG', 'Charles Aznavour', 'Toman', 'Ct Sport', 'Zapadonilska horecka', 'Svitavy', 'Assassins Creed Odyssey', 'Jan Kiss', 'George Ceska sporitelna'], 'CA': ['Cubs', 'Megyn Kelly', 'Instagram down', 'Calgary Weather', 'Donna Strickland', 'Champions League', 'Patrick Mahomes', 'Calgary', 'Real Madrid', 'Calgary Transit', 'LNG Canada', 'Post Malone', 'Hailey Baldwin', 'Beyonce Vancouver', 'Venom review', 'Catherine Fournier', 'Justin Hartley', 'Bill 148', 'Juventus vs Young Boys', 'Montreal Gazette'], 'BR': ['Gremio', 'Dolar', 'Juventus', '432', 'Idecan', 'Manchester City', 'CSA x Paysandu', 'River Plate x Independiente', 'Goias x Londrina', 'PSG', 'Sampaio Correa x Figueirense', 'Palmeiras x Colo-Colo', 'Champions League 2019', 'Quina 4790', 'Fabio Porchat', 'YouTube Music', 'Nadja Pessoa', 'Juliana Paiva', 'Manchester United x Valencia', 'Marcelo Candido'], 'AT': ['Tag der deutschen Einheit', 'Feiertage Deutschland', 'Instagram down', 'Dazn', 'Graciano Rocchigiani', 'Juventus', 'Finanzguru', 'ZSKA Moskau gegen Real Madrid', 'CL', 'Cardi B', 'Rapid Trainer', 'Karl Lagerfeld', 'Manchester United', 'Hoflader', 'Gernot Trauner', 'Love Island Gewinner', 'Ursula Schmudermayer', 'Chia Bowl', 'Trummerfrauen', 'Chris Tall'], 'DE': ['Instagram down', 'Instagram Storung', 'Backerei', 'Tag der deutschen Einheit', 'Graciano Rocchigiani', 'Finanzguru', 'Hoffenheim', 'DAZN', 'Kit Kat Club', 'Venom', 'ZSKA Moskau gegen Real Madrid', 'Juventus', 'Renault', 'Chia Bowl', '3 Oktober', 'Chemnitz', 'Werk ohne Autor', 'Otto Waalkes', 'Vonovia', 'Cardi B'], 'HU': ['Nagy Aniko allamtitkar', 'Juventus-Young Boys', 'Real Madrid', 'Hoffenheim', 'Bajnokok Ligaja', 'BL', 'Bayern Munchen-Ajax', \"Assassin's Creed Odyssey\", 'VIASAT3', 'Black Mirror', 'Cardi B', 'MC Hawer', 'Charles Aznavour', 'Willi Orban', '200 elso Randi', 'Gulyas Istvan', 'Asia Argento', 'oktober', 'Feher Pokol', 'gyulekezesi torveny'], 'RO': ['Bayern', 'Rovana Plumb', '3 octombrie', 'Irina Loghin', 'Alice Peneaca', 'MCV', 'Juventus - Young Boys', 'Champions League', 'Tska Moscova - Real Madrid', 'Ucl', 'Gabi Insula Iubirii', 'REAL MADRID', 'Insula Iubirii 1 Octombrie', 'ROEXIT', 'Hoffenheim', 'Rita Muresan', 'Kathryn Mayorga', 'hernie de disc', 'incendiu Iasi', 'Liga Campionilor'], 'BE': ['Pioppi Dieet', 'UEFA champions League', 'Gerard Collomb', 'De Lijn', 'champions League', 'Real Madrid', 'Juventus', 'A Star Is Born', 'Manchester United', 'Ajax', 'Binche Chimay Binche', 'Champions League 2018', 'Marianne Mako', 'tirage Euromillion', 'Hoffenheim - Manchester City', 'Manchester City', 'ProDongle', 'Yulia Ushakova', 'Adil Rami', 'Cardi B'], 'DK': ['Champions League', 'Peter Moller', 'Real Madrid', 'Lars Lokke', 'Cristiano Ronaldo', 'Juventus', 'Regina Seaways', 'John Mellencamp', 'Cardi B', 'Premiair', 'Primera Air', 'Charles Aznavour', 'Formel 1', 'Kathryn Mayorga', 'Venom', 'Martin Hall', 'Jean-Claude Arnault', \"Assassin's Creed Odyssey\", 'Hong Kong', 'Jesper Nielsen Danske Bank'], 'GB': ['Instagram down', 'Zoe Ball', 'Champions League', 'Man City', 'Venom', 'Real Madrid', 'Everton', 'Aston Villa', 'Leeds United', 'George Shelley', 'Tyson Fury', 'Boris Johnson', 'civil partnership', \"Assassin's Creed Odyssey\", 'Cardi B', 'Fred Goodwin', 'Katie Piper', 'Dani Dyer', 'This Morning', 'Juventus vs Young Boys'], 'NZ': ['Instagram', 'John Britten', 'A Star is Born', 'Ruby Rose', 'F45', 'Champions League', 'Jami Lee Ross', 'Charles Aznavour', 'Christchurch Airport', 'Cardi B', \"Assassin's Creed Odyssey\", 'Dr. Govindappa Venkataswamy', 'Elon Musk', 'Project Runway NZ', 'Homegrown 2019', '13th Amendment', 'NRL Grand Final', 'All Blacks', 'Nz time', 'The Block NZ'], 'CL': ['Cuballende', 'Manchester United', 'Copa Libertadores', 'Real Madrid', 'FUAS', 'Pilar Cox', 'Juventus', 'Colo Colo vs Palmeiras', 'Camila Recabarren', 'Manchester City', 'Barcelona', 'Darling Rioseco', 'VIDEO de chilenos en Malasia', 'Mary Prince', 'Si yo fuera rico', 'Cyber Monday 2018', 'Charles Aznavour', 'Mega Online', 'TVN', 'Radio Bio Bio'], 'CH': ['Tag der deutschen Einheit', 'Instagram down', 'Rea Garvey', 'Gerard Collomb', 'Champions League', 'Euromillion', 'Real Madrid', 'Graciano Rocchigiani', 'Manchester United', 'Kathryn Mayorga', 'Finanzguru', 'Dybala', 'YB Juventus Live Stream', 'CL', 'Donna Strickland', 'Dazn', 'Cardi B', 'Benfica', 'Vanessa Mai', 'Bradley Cooper']}\n"
     ]
    }
   ],
   "source": [
    "countries_tag = ['US', 'FR', 'BE', 'ZA','DE', 'AR', 'AU', 'AT', 'BR', 'CA',\n",
    "                 'CL', 'CO', 'CZ', 'DK', 'DE', 'HU', 'IE', 'IT', 'KE', 'MX',\n",
    "                 'NL', 'NZ', 'PL', 'RO', 'GB', 'CH']\n",
    "results = []\n",
    "for tag in countries_tag:\n",
    "    top_searchs = []\n",
    "    url_country = 'https://trends.google.fr/trends/trendingsearches/daily/rss?geo=' + tag\n",
    "    html_country = requests.get(url_country, headers=headers)\n",
    "    soup = BeautifulSoup(html_country.text, \"lxml\")\n",
    "    items = soup.findAll('item')\n",
    "    for item in items:\n",
    "        search = unidecode.unidecode(item.title.text)\n",
    "        top_searchs.append(search)\n",
    "    results.append(top_searchs)\n",
    "\n",
    "dico_results = dict(zip(countries_tag, results))\n",
    "print(dico_results)\n",
    "with open(\"trends.json\", \"w\") as fout:\n",
    "    json.dump(dico_results, fout)"
   ]
  },
  {
   "cell_type": "markdown",
   "metadata": {},
   "source": [
    "There we go, we got the top 20 Google Searches for 26 countries. Now watch the trends.sh script to set up this Python file to run every day at a given time."
   ]
  },
  {
   "cell_type": "code",
   "execution_count": null,
   "metadata": {},
   "outputs": [],
   "source": []
  }
 ],
 "metadata": {
  "kernelspec": {
   "display_name": "Python 3",
   "language": "python",
   "name": "python3"
  },
  "language_info": {
   "codemirror_mode": {
    "name": "ipython",
    "version": 3
   },
   "file_extension": ".py",
   "mimetype": "text/x-python",
   "name": "python",
   "nbconvert_exporter": "python",
   "pygments_lexer": "ipython3",
   "version": "3.5.2"
  }
 },
 "nbformat": 4,
 "nbformat_minor": 2
}
