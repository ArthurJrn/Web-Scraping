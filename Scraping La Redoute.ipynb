{
 "cells": [
  {
   "cell_type": "markdown",
   "metadata": {},
   "source": [
    "# Scraping La Redoute"
   ]
  },
  {
   "cell_type": "markdown",
   "metadata": {},
   "source": [
    "Little web scraper for the La  website. The goal is to complete our database by adding some clothes in the unbalanced categories."
   ]
  },
  {
   "cell_type": "code",
   "execution_count": 1,
   "metadata": {},
   "outputs": [],
   "source": [
    "from bs4 import BeautifulSoup\n",
    "import requests\n",
    "import urllib.request\n",
    "import sys\n",
    "import os\n",
    "import traceback\n",
    "import re\n",
    "import time\n",
    "import json\n",
    "import unidecode"
   ]
  },
  {
   "cell_type": "markdown",
   "metadata": {},
   "source": [
    "We use our usual headers."
   ]
  },
  {
   "cell_type": "code",
   "execution_count": 2,
   "metadata": {},
   "outputs": [],
   "source": [
    "headers = {'User-Agent': 'Mozilla/5.0 (X11; Ubuntu; Linux x86_64; rv:62.0) Gecko/20100101 Firefox/62.0'}\n",
    "Base = 'https://www.laredoute.fr'"
   ]
  },
  {
   "cell_type": "code",
   "execution_count": 3,
   "metadata": {},
   "outputs": [],
   "source": [
    "url = 'https://www.laredoute.fr/pplp/100/157938/175626/83971/cat-83973.aspx?pgnt=1'\n",
    "html = requests.get(url, headers = headers)"
   ]
  },
  {
   "cell_type": "markdown",
   "metadata": {},
   "source": [
    "Create a Beautiful Soup object."
   ]
  },
  {
   "cell_type": "code",
   "execution_count": 4,
   "metadata": {},
   "outputs": [],
   "source": [
    "soup = BeautifulSoup(html.text, 'lxml')"
   ]
  },
  {
   "cell_type": "markdown",
   "metadata": {},
   "source": [
    "We're just gonna get all the images on the url, as we don't want to scrap the whole website changing manually the url is not a big deal."
   ]
  },
  {
   "cell_type": "markdown",
   "metadata": {},
   "source": [
    "We iterate over all the pages, thus we click on the \"Next\" button as long as there is a page left. "
   ]
  },
  {
   "cell_type": "code",
   "execution_count": 5,
   "metadata": {},
   "outputs": [
    {
     "name": "stdout",
     "output_type": "stream",
     "text": [
      "https://www.laredoute.fr/pplp/100/157938/175626/83971/cat-83973.aspx?pgnt=2\n"
     ]
    }
   ],
   "source": [
    "next_page = soup.find('a', {'id':'next'})\n",
    "print(next_page['href'])"
   ]
  },
  {
   "cell_type": "code",
   "execution_count": 6,
   "metadata": {},
   "outputs": [
    {
     "data": {
      "text/plain": [
       "['https://cdn.laredoute.com/products/302by302/8/7/2/8725a54f0a8d126f71483f5c6da5dc2c.jpg',\n",
       " 'https://cdn.laredoute.com/products/302by302/3/9/5/39570a58f1603c1d640ceafbaa39ac7d.jpg',\n",
       " 'https://cdn.laredoute.com/products/302by302/1/1/9/11923e6dcc7fd717c7b1a2e993ae9652.jpg',\n",
       " 'https://cdn.laredoute.com/products/302by302/0/f/6/0f63c90c774bbd512ac6258916c88a31.jpg',\n",
       " 'https://cdn.laredoute.com/products/302by302/4/c/7/4c7d08d522c87103002a5bbb15163ac1.jpg',\n",
       " 'https://cdn.laredoute.com/products/302by302/f/f/f/fff2486c3e5679b9b171b70ea298750d.jpg',\n",
       " 'https://cdn.laredoute.com/products/302by302/8/6/0/8604e5e17cbe4ee0bb20378b758d61a1.jpg',\n",
       " 'https://cdn.laredoute.com/products/302by302/2/b/4/2b43b68e6ce135c38a59d2ad2d899be8.jpg',\n",
       " 'https://cdn.laredoute.com/products/302by302/3/4/b/34b62c7c76b64ab1fd90a0ac529d82d7.jpg',\n",
       " 'https://cdn.laredoute.com/products/302by302/7/c/5/7c51d1728c31b2c285c7e2eb30b753ca.jpg',\n",
       " 'https://cdn.laredoute.com/products/302by302/3/2/5/325d5fc5d80b90fb2f929bc1d45cbbdb.jpg',\n",
       " 'https://cdn.laredoute.com/products/302by302/f/9/d/f9d060754f4e571ae95bad990948966c.jpg',\n",
       " 'https://cdn.laredoute.com/products/302by302/5/5/4/5543288fef359dc50bcb2ebbc75a22f4.jpg',\n",
       " 'https://cdn.laredoute.com/products/302by302/4/8/1/48141c898de58eb823d03d961a03b122.jpg',\n",
       " 'https://cdn.laredoute.com/products/302by302/1/3/a/13a8c886000e8749ce63ae4a827a4f10.jpg',\n",
       " 'https://cdn.laredoute.com/products/302by302/4/3/b/43b5e5f08254d379cee64ad2c9af88fb.jpg',\n",
       " 'https://cdn.laredoute.com/products/302by302/c/f/0/cf0e4c8f582b7cdeb3d47649949c552b.jpg',\n",
       " 'https://cdn.laredoute.com/products/302by302/b/2/d/b2d877c2680d9e9612ee6476280d7e30.jpg',\n",
       " 'https://cdn.laredoute.com/products/302by302/6/d/b/6dbb9b815626ac6c0ec2ed51dfa03b1b.jpg',\n",
       " 'https://cdn.laredoute.com/products/302by302/b/b/4/bb4a0c748f306f7ffa7075a8ee550676.jpg',\n",
       " 'https://cdn.laredoute.com/products/302by302/1/4/3/143a049a822ad40970bcf9db3e093b18.jpg',\n",
       " 'https://cdn.laredoute.com/products/302by302/9/0/4/904c1cc64ae5d045f71d92e8ec972164.jpg',\n",
       " 'https://cdn.laredoute.com/products/302by302/c/4/5/c4597a578aba6e1f6b1ba5ec1a85de40.jpg',\n",
       " 'https://cdn.laredoute.com/products/302by302/d/2/d/d2d69cb0b869a58376b9d498343037ab.jpg',\n",
       " 'https://cdn.laredoute.com/products/302by302/b/3/f/b3fb479036b2d8637c20975843a1dd2a.jpg',\n",
       " 'https://cdn.laredoute.com/products/302by302/4/1/f/41fd273306179b000ec76245448ab1ca.jpg',\n",
       " 'https://cdn.laredoute.com/products/302by302/d/7/6/d76eef1cb7926664b35d0f5a5b3d4031.jpg',\n",
       " 'https://cdn.laredoute.com/products/302by302/7/6/1/761e02a3023129d0487948db10c5c77a.jpg',\n",
       " 'https://cdn.laredoute.com/products/302by302/7/9/7/797791ade90f58a54854cf2dda210fa3.jpg',\n",
       " 'https://cdn.laredoute.com/products/302by302/a/7/0/a70949b72e8c77dcac48dfb0ca255585.jpg',\n",
       " 'https://cdn.laredoute.com/products/302by302/8/6/3/863bdc220cedf29aba9409955c15a594.jpg',\n",
       " 'https://cdn.laredoute.com/products/302by302/7/c/0/7c0a9174ab725e8f3df05802210c14de.jpg',\n",
       " 'https://cdn.laredoute.com/products/302by302/0/6/e/06e357c9faf32208f65c930f3c64a0b9.jpg',\n",
       " 'https://cdn.laredoute.com/products/302by302/d/4/3/d43214fc6eb5abadae44ed9e16bf9787.jpg',\n",
       " 'https://cdn.laredoute.com/products/302by302/f/c/e/fcec55310f802f1de5bc75250bda1c2c.jpg',\n",
       " 'https://cdn.laredoute.com/products/302by302/2/8/e/28ec062b5c018951c851fb5072a9112f.jpg',\n",
       " 'https://cdn.laredoute.com/products/302by302/0/b/a/0bae4383a5d7f1045964f23392317b50.jpg',\n",
       " 'https://cdn.laredoute.com/products/302by302/d/0/c/d0c17d9e6a2ec89bf7c06e5d2eed900d.jpg',\n",
       " 'https://cdn.laredoute.com/products/302by302/2/8/d/28db4509fd9a85da15d8ed34bd777935.jpg',\n",
       " 'https://cdn.laredoute.com/products/302by302/8/8/0/88066bbfba2913c5eddcfccceb6ea3c9.jpg',\n",
       " 'https://cdn.laredoute.com/products/302by302/9/d/2/9d2f6c438c35b1e2bad86c2c6e081908.jpg',\n",
       " 'https://cdn.laredoute.com/products/302by302/4/c/5/4c5ac98ea094f53a178e345491daef32.jpg',\n",
       " 'https://cdn.laredoute.com/products/302by302/9/1/8/918450b1fa5f3ec866b4dc0f196bfb1f.jpg',\n",
       " 'https://cdn.laredoute.com/products/302by302/a/1/5/a154702abb71890dd4325d804f8353b4.jpg',\n",
       " 'https://cdn.laredoute.com/products/302by302/7/f/5/7f50b52618bf6a1952e21abeef694c56.jpg',\n",
       " 'https://cdn.laredoute.com/products/302by302/a/4/5/a454ee6ffacfaac944e2a489d0c53826.jpg',\n",
       " 'https://cdn.laredoute.com/products/302by302/a/3/5/a3517ffaaf87a68d8e27c566f0baba83.jpg',\n",
       " 'https://cdn.laredoute.com/products/302by302/4/7/8/478386967eef3bc2b45b9fbcfd0bda29.jpg',\n",
       " 'https://cdn.laredoute.com/products/302by302/3/2/1/321682847a12077ccd5c9e8c42a21c4c.jpg',\n",
       " 'https://cdn.laredoute.com/products/302by302/1/8/e/18ebc38940455c4c44c995d88e18b771.jpg',\n",
       " 'https://cdn.laredoute.com/products/302by302/6/6/9/6698a72a718a3bb750ba2184e5fd34fd.jpg',\n",
       " 'https://cdn.laredoute.com/products/302by302/d/2/3/d239fee69b59e1d54cce1851011a1176.jpg',\n",
       " 'https://cdn.laredoute.com/products/302by302/d/e/c/dec047756cbc5f5b64486f468d8ea947.jpg',\n",
       " 'https://cdn.laredoute.com/products/302by302/0/a/b/0abee05a1306e11ccb5450236263dd51.jpg',\n",
       " 'https://cdn.laredoute.com/products/302by302/b/1/c/b1ccc4e6997a2fd2523bf29a0cb64133.jpg',\n",
       " 'https://cdn.laredoute.com/products/302by302/2/2/6/226dea19442e4a1975603db4828c2741.jpg',\n",
       " 'https://cdn.laredoute.com/products/302by302/4/8/3/4832e8821ff8fcf977c391c821b1d669.jpg',\n",
       " 'https://cdn.laredoute.com/products/302by302/a/a/8/aa8866abd63627de3aa6d3995feeb805.jpg',\n",
       " 'https://cdn.laredoute.com/products/302by302/b/3/4/b344286a2530858ec771714a2337e7d7.jpg',\n",
       " 'https://cdn.laredoute.com/products/302by302/3/9/8/3987bf46d05ef1a1e04ee82cee6c3855.jpg',\n",
       " 'https://cdn.laredoute.com/products/302by302/5/b/c/5bc746041bca862025719bc4cb15a5db.jpg',\n",
       " 'https://cdn.laredoute.com/products/302by302/5/7/7/577c87ffce1543bae9b876a6876cc331.jpg',\n",
       " 'https://cdn.laredoute.com/products/302by302/d/9/0/d907720561f88a69e7a255fb1b191e1a.jpg',\n",
       " 'https://cdn.laredoute.com/products/302by302/7/f/2/7f24551792fa9b57c919947b2c64e3ac.jpg',\n",
       " 'https://cdn.laredoute.com/products/302by302/8/e/6/8e69cfbf0c5b61b9472906131290ef24.jpg',\n",
       " 'https://cdn.laredoute.com/products/302by302/7/7/b/77ba6e03bb57d5d08af35112d1c37cf0.jpg',\n",
       " 'https://cdn.laredoute.com/products/302by302/7/0/5/705ba96a80af6e91246e4e111aec9fc7.jpg',\n",
       " 'https://cdn.laredoute.com/products/302by302/f/4/e/f4e1b1ee6bf769573c111c6c74639f70.jpg',\n",
       " 'https://cdn.laredoute.com/products/302by302/a/a/5/aa572a186b6925c73b000fdba90147ce.jpg',\n",
       " 'https://cdn.laredoute.com/products/302by302/e/2/1/e21c25b9f4d7832bc59ffef5229a9426.jpg',\n",
       " 'https://cdn.laredoute.com/products/302by302/3/7/b/37b66973156e0f5000159a7a5c26583f.jpg',\n",
       " 'https://cdn.laredoute.com/products/302by302/3/d/b/3db86e32dbad7231949ca94e24deca1d.jpg',\n",
       " 'https://cdn.laredoute.com/products/302by302/3/b/c/3bc70f777710e0dddcad60958a21ee03.jpg',\n",
       " 'https://cdn.laredoute.com/products/302by302/5/2/7/527961357eb60a0a387ffde2c995d2eb.jpg',\n",
       " 'https://cdn.laredoute.com/products/302by302/d/0/8/d08dca147713293fe0b540a3f8982a76.jpg',\n",
       " 'https://cdn.laredoute.com/products/302by302/8/2/c/82cce726c66e9b943636fd5926a934b9.jpg',\n",
       " 'https://cdn.laredoute.com/products/302by302/a/f/9/af98ee5648c98f036bd9a20eceb48fb9.jpg',\n",
       " 'https://cdn.laredoute.com/products/302by302/1/9/9/199db26e1bc79b256976cf3470a3ffa1.jpg',\n",
       " 'https://cdn.laredoute.com/products/302by302/7/0/b/70bf418f6a85203ad27c9bdd2b32322e.jpg',\n",
       " 'https://cdn.laredoute.com/products/302by302/1/c/2/1c2389c27c483d4e1507ce2f30acb629.jpg',\n",
       " 'https://cdn.laredoute.com/products/302by302/4/b/7/4b79a1955fdfa5f48dd9711957d2d80d.jpg',\n",
       " 'https://cdn.laredoute.com/products/302by302/7/1/e/71e811c201d773790bb66e09919f27b1.jpg',\n",
       " 'https://cdn.laredoute.com/products/302by302/c/0/2/c024508c5e82ddb2b1e3a0b083b1cc67.jpg',\n",
       " 'https://cdn.laredoute.com/products/302by302/5/d/b/5dbeccce2942069978acb04c5b7d2836.jpg',\n",
       " 'https://cdn.laredoute.com/products/302by302/1/f/a/1fa219fac719d02fcbe0d6264064e8cd.jpg',\n",
       " 'https://cdn.laredoute.com/products/302by302/f/4/3/f432d7a9ceb8793cb0ce3dc40e61f3a1.jpg',\n",
       " 'https://cdn.laredoute.com/products/302by302/8/2/f/82fafb9c96e2ec02f8a4fc3f01b0e7a3.jpg',\n",
       " 'https://cdn.laredoute.com/products/302by302/6/3/4/6342d300163107227b7aea46661d7564.jpg',\n",
       " 'https://cdn.laredoute.com/products/302by302/2/d/0/2d05fe0454d06b7a6b34134eff6f53c2.jpg',\n",
       " 'https://cdn.laredoute.com/products/302by302/e/4/7/e479910c85a8910c7db0283d22d51b9b.jpg',\n",
       " 'https://cdn.laredoute.com/products/302by302/2/c/9/2c9a4a30a3680b2a6e59741ddf785ce2.jpg',\n",
       " 'https://cdn.laredoute.com/products/302by302/e/c/a/eca921c9216df9e936635d0c0f696c7e.jpg',\n",
       " 'https://cdn.laredoute.com/products/302by302/5/1/2/5129ab25580d089b969c098cbd13078a.jpg',\n",
       " 'https://cdn.laredoute.com/products/302by302/2/8/1/2812f9462eeae8f4e8862c33e025fa66.jpg']"
      ]
     },
     "execution_count": 6,
     "metadata": {},
     "output_type": "execute_result"
    }
   ],
   "source": [
    "def parse_page(url):\n",
    "    urls = []\n",
    "    html = requests.get(url, headers=headers)\n",
    "    soupPage = BeautifulSoup(html.text, 'lxml')\n",
    "    images = soupPage.findAll('img', {'class':'pl-image'})\n",
    "    for ind, img in enumerate(images):\n",
    "        time.sleep(0.2)\n",
    "        urls.append(img['data-src-main'])\n",
    "    return urls\n",
    "\n",
    "parse_page(url)"
   ]
  },
  {
   "cell_type": "markdown",
   "metadata": {},
   "source": [
    "Now we can download all the images. "
   ]
  },
  {
   "cell_type": "code",
   "execution_count": null,
   "metadata": {
    "scrolled": false
   },
   "outputs": [
    {
     "name": "stdout",
     "output_type": "stream",
     "text": [
      "Parsing page no 1\n",
      "Images scraped: 94\n",
      "Parsing page no 2\n",
      "Images scraped: 94\n",
      "Parsing page no 3\n",
      "Images scraped: 94\n",
      "Parsing page no 4\n",
      "Images scraped: 94\n"
     ]
    }
   ],
   "source": [
    "total_urls = []\n",
    "for i in range(1,25):\n",
    "    print(\"Parsing page no\", i)\n",
    "    url = 'https://www.laredoute.fr/pplp/100/157938/175626/83971/cat-83973.aspx?pgnt=' + str(i)\n",
    "    images_scraped = parse_page(url)\n",
    "    print(\"Images scraped:\",len(images_scraped))\n",
    "    total_urls = total_urls + parse_page(url)\n",
    "print(\"Number of images to download\", len(total_urls))\n",
    "for ind, img_url in enumerate(total_urls):\n",
    "    try:\n",
    "        print(\"Downloading img no\", ind)\n",
    "        file_name = '/media/arthur/DATA/Databases/Complement/Casuals/' + \"product_la_redoute\" + str(ind) +\".jpg\"\n",
    "        f = open(file_name, 'wb') \n",
    "        urllib.request.urlretrieve(img_url, file_name)\n",
    "        f.close()\n",
    "    except:\n",
    "        print(\"Error while dowloading.\")\n",
    "        continue\n",
    "        \n",
    "    \n",
    "    "
   ]
  },
  {
   "cell_type": "code",
   "execution_count": null,
   "metadata": {},
   "outputs": [],
   "source": []
  },
  {
   "cell_type": "code",
   "execution_count": null,
   "metadata": {},
   "outputs": [],
   "source": []
  }
 ],
 "metadata": {
  "kernelspec": {
   "display_name": "Python 3",
   "language": "python",
   "name": "python3"
  },
  "language_info": {
   "codemirror_mode": {
    "name": "ipython",
    "version": 3
   },
   "file_extension": ".py",
   "mimetype": "text/x-python",
   "name": "python",
   "nbconvert_exporter": "python",
   "pygments_lexer": "ipython3",
   "version": "3.5.2"
  }
 },
 "nbformat": 4,
 "nbformat_minor": 2
}
